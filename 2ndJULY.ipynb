{
  "nbformat": 4,
  "nbformat_minor": 0,
  "metadata": {
    "colab": {
      "provenance": [],
      "collapsed_sections": [
        "Fs_CnuhE-z7m",
        "Wrp_PeY7WSVW",
        "118rYzyaYoUg",
        "jjWudEuzh1kY",
        "ZopyOPkunL6R"
      ]
    },
    "kernelspec": {
      "name": "python3",
      "display_name": "Python 3"
    },
    "language_info": {
      "name": "python"
    }
  },
  "cells": [
    {
      "cell_type": "markdown",
      "source": [
        "#DATASET\n"
      ],
      "metadata": {
        "id": "Fs_CnuhE-z7m"
      }
    },
    {
      "cell_type": "code",
      "execution_count": null,
      "metadata": {
        "id": "lWDVupWuQgvf"
      },
      "outputs": [],
      "source": [
        "import numpy as np\n",
        "import pandas as pd\n",
        "import matplotlib.pyplot as plt\n",
        "import statistics as st"
      ]
    },
    {
      "cell_type": "code",
      "source": [
        "raw_data=pd.read_csv('/content/H_DDataset.csv')"
      ],
      "metadata": {
        "id": "knGP8JGBRCHF"
      },
      "execution_count": null,
      "outputs": []
    },
    {
      "cell_type": "code",
      "source": [
        "raw_data.head()"
      ],
      "metadata": {
        "colab": {
          "base_uri": "https://localhost:8080/",
          "height": 241
        },
        "id": "nc-FCwGe5hWI",
        "outputId": "7a446baa-79ff-47bb-d40b-31404e8a50cc"
      },
      "execution_count": null,
      "outputs": [
        {
          "output_type": "execute_result",
          "data": {
            "text/plain": [
              "   age  sex  chest pain type  resting bp s  cholesterol  fasting blood sugar  \\\n",
              "0   40    1                2           140          289                    0   \n",
              "1   49    0                3           160          180                    0   \n",
              "2   37    1                2           130          283                    0   \n",
              "3   48    0                4           138          214                    0   \n",
              "4   54    1                3           150          195                    0   \n",
              "\n",
              "   resting ecg  max heart rate  exercise angina  oldpeak  ST slope  target  \n",
              "0            0             172                0      0.0         1       0  \n",
              "1            0             156                0      1.0         2       1  \n",
              "2            1              98                0      0.0         1       0  \n",
              "3            0             108                1      1.5         2       1  \n",
              "4            0             122                0      0.0         1       0  "
            ],
            "text/html": [
              "\n",
              "  <div id=\"df-d4fa63f7-48ac-4a76-bf70-82eeea1bb311\" class=\"colab-df-container\">\n",
              "    <div>\n",
              "<style scoped>\n",
              "    .dataframe tbody tr th:only-of-type {\n",
              "        vertical-align: middle;\n",
              "    }\n",
              "\n",
              "    .dataframe tbody tr th {\n",
              "        vertical-align: top;\n",
              "    }\n",
              "\n",
              "    .dataframe thead th {\n",
              "        text-align: right;\n",
              "    }\n",
              "</style>\n",
              "<table border=\"1\" class=\"dataframe\">\n",
              "  <thead>\n",
              "    <tr style=\"text-align: right;\">\n",
              "      <th></th>\n",
              "      <th>age</th>\n",
              "      <th>sex</th>\n",
              "      <th>chest pain type</th>\n",
              "      <th>resting bp s</th>\n",
              "      <th>cholesterol</th>\n",
              "      <th>fasting blood sugar</th>\n",
              "      <th>resting ecg</th>\n",
              "      <th>max heart rate</th>\n",
              "      <th>exercise angina</th>\n",
              "      <th>oldpeak</th>\n",
              "      <th>ST slope</th>\n",
              "      <th>target</th>\n",
              "    </tr>\n",
              "  </thead>\n",
              "  <tbody>\n",
              "    <tr>\n",
              "      <th>0</th>\n",
              "      <td>40</td>\n",
              "      <td>1</td>\n",
              "      <td>2</td>\n",
              "      <td>140</td>\n",
              "      <td>289</td>\n",
              "      <td>0</td>\n",
              "      <td>0</td>\n",
              "      <td>172</td>\n",
              "      <td>0</td>\n",
              "      <td>0.0</td>\n",
              "      <td>1</td>\n",
              "      <td>0</td>\n",
              "    </tr>\n",
              "    <tr>\n",
              "      <th>1</th>\n",
              "      <td>49</td>\n",
              "      <td>0</td>\n",
              "      <td>3</td>\n",
              "      <td>160</td>\n",
              "      <td>180</td>\n",
              "      <td>0</td>\n",
              "      <td>0</td>\n",
              "      <td>156</td>\n",
              "      <td>0</td>\n",
              "      <td>1.0</td>\n",
              "      <td>2</td>\n",
              "      <td>1</td>\n",
              "    </tr>\n",
              "    <tr>\n",
              "      <th>2</th>\n",
              "      <td>37</td>\n",
              "      <td>1</td>\n",
              "      <td>2</td>\n",
              "      <td>130</td>\n",
              "      <td>283</td>\n",
              "      <td>0</td>\n",
              "      <td>1</td>\n",
              "      <td>98</td>\n",
              "      <td>0</td>\n",
              "      <td>0.0</td>\n",
              "      <td>1</td>\n",
              "      <td>0</td>\n",
              "    </tr>\n",
              "    <tr>\n",
              "      <th>3</th>\n",
              "      <td>48</td>\n",
              "      <td>0</td>\n",
              "      <td>4</td>\n",
              "      <td>138</td>\n",
              "      <td>214</td>\n",
              "      <td>0</td>\n",
              "      <td>0</td>\n",
              "      <td>108</td>\n",
              "      <td>1</td>\n",
              "      <td>1.5</td>\n",
              "      <td>2</td>\n",
              "      <td>1</td>\n",
              "    </tr>\n",
              "    <tr>\n",
              "      <th>4</th>\n",
              "      <td>54</td>\n",
              "      <td>1</td>\n",
              "      <td>3</td>\n",
              "      <td>150</td>\n",
              "      <td>195</td>\n",
              "      <td>0</td>\n",
              "      <td>0</td>\n",
              "      <td>122</td>\n",
              "      <td>0</td>\n",
              "      <td>0.0</td>\n",
              "      <td>1</td>\n",
              "      <td>0</td>\n",
              "    </tr>\n",
              "  </tbody>\n",
              "</table>\n",
              "</div>\n",
              "    <div class=\"colab-df-buttons\">\n",
              "\n",
              "  <div class=\"colab-df-container\">\n",
              "    <button class=\"colab-df-convert\" onclick=\"convertToInteractive('df-d4fa63f7-48ac-4a76-bf70-82eeea1bb311')\"\n",
              "            title=\"Convert this dataframe to an interactive table.\"\n",
              "            style=\"display:none;\">\n",
              "\n",
              "  <svg xmlns=\"http://www.w3.org/2000/svg\" height=\"24px\" viewBox=\"0 -960 960 960\">\n",
              "    <path d=\"M120-120v-720h720v720H120Zm60-500h600v-160H180v160Zm220 220h160v-160H400v160Zm0 220h160v-160H400v160ZM180-400h160v-160H180v160Zm440 0h160v-160H620v160ZM180-180h160v-160H180v160Zm440 0h160v-160H620v160Z\"/>\n",
              "  </svg>\n",
              "    </button>\n",
              "\n",
              "  <style>\n",
              "    .colab-df-container {\n",
              "      display:flex;\n",
              "      gap: 12px;\n",
              "    }\n",
              "\n",
              "    .colab-df-convert {\n",
              "      background-color: #E8F0FE;\n",
              "      border: none;\n",
              "      border-radius: 50%;\n",
              "      cursor: pointer;\n",
              "      display: none;\n",
              "      fill: #1967D2;\n",
              "      height: 32px;\n",
              "      padding: 0 0 0 0;\n",
              "      width: 32px;\n",
              "    }\n",
              "\n",
              "    .colab-df-convert:hover {\n",
              "      background-color: #E2EBFA;\n",
              "      box-shadow: 0px 1px 2px rgba(60, 64, 67, 0.3), 0px 1px 3px 1px rgba(60, 64, 67, 0.15);\n",
              "      fill: #174EA6;\n",
              "    }\n",
              "\n",
              "    .colab-df-buttons div {\n",
              "      margin-bottom: 4px;\n",
              "    }\n",
              "\n",
              "    [theme=dark] .colab-df-convert {\n",
              "      background-color: #3B4455;\n",
              "      fill: #D2E3FC;\n",
              "    }\n",
              "\n",
              "    [theme=dark] .colab-df-convert:hover {\n",
              "      background-color: #434B5C;\n",
              "      box-shadow: 0px 1px 3px 1px rgba(0, 0, 0, 0.15);\n",
              "      filter: drop-shadow(0px 1px 2px rgba(0, 0, 0, 0.3));\n",
              "      fill: #FFFFFF;\n",
              "    }\n",
              "  </style>\n",
              "\n",
              "    <script>\n",
              "      const buttonEl =\n",
              "        document.querySelector('#df-d4fa63f7-48ac-4a76-bf70-82eeea1bb311 button.colab-df-convert');\n",
              "      buttonEl.style.display =\n",
              "        google.colab.kernel.accessAllowed ? 'block' : 'none';\n",
              "\n",
              "      async function convertToInteractive(key) {\n",
              "        const element = document.querySelector('#df-d4fa63f7-48ac-4a76-bf70-82eeea1bb311');\n",
              "        const dataTable =\n",
              "          await google.colab.kernel.invokeFunction('convertToInteractive',\n",
              "                                                    [key], {});\n",
              "        if (!dataTable) return;\n",
              "\n",
              "        const docLinkHtml = 'Like what you see? Visit the ' +\n",
              "          '<a target=\"_blank\" href=https://colab.research.google.com/notebooks/data_table.ipynb>data table notebook</a>'\n",
              "          + ' to learn more about interactive tables.';\n",
              "        element.innerHTML = '';\n",
              "        dataTable['output_type'] = 'display_data';\n",
              "        await google.colab.output.renderOutput(dataTable, element);\n",
              "        const docLink = document.createElement('div');\n",
              "        docLink.innerHTML = docLinkHtml;\n",
              "        element.appendChild(docLink);\n",
              "      }\n",
              "    </script>\n",
              "  </div>\n",
              "\n",
              "\n",
              "<div id=\"df-848ac6b0-ea5d-4c6e-b434-b26827990eda\">\n",
              "  <button class=\"colab-df-quickchart\" onclick=\"quickchart('df-848ac6b0-ea5d-4c6e-b434-b26827990eda')\"\n",
              "            title=\"Suggest charts\"\n",
              "            style=\"display:none;\">\n",
              "\n",
              "<svg xmlns=\"http://www.w3.org/2000/svg\" height=\"24px\"viewBox=\"0 0 24 24\"\n",
              "     width=\"24px\">\n",
              "    <g>\n",
              "        <path d=\"M19 3H5c-1.1 0-2 .9-2 2v14c0 1.1.9 2 2 2h14c1.1 0 2-.9 2-2V5c0-1.1-.9-2-2-2zM9 17H7v-7h2v7zm4 0h-2V7h2v10zm4 0h-2v-4h2v4z\"/>\n",
              "    </g>\n",
              "</svg>\n",
              "  </button>\n",
              "\n",
              "<style>\n",
              "  .colab-df-quickchart {\n",
              "      --bg-color: #E8F0FE;\n",
              "      --fill-color: #1967D2;\n",
              "      --hover-bg-color: #E2EBFA;\n",
              "      --hover-fill-color: #174EA6;\n",
              "      --disabled-fill-color: #AAA;\n",
              "      --disabled-bg-color: #DDD;\n",
              "  }\n",
              "\n",
              "  [theme=dark] .colab-df-quickchart {\n",
              "      --bg-color: #3B4455;\n",
              "      --fill-color: #D2E3FC;\n",
              "      --hover-bg-color: #434B5C;\n",
              "      --hover-fill-color: #FFFFFF;\n",
              "      --disabled-bg-color: #3B4455;\n",
              "      --disabled-fill-color: #666;\n",
              "  }\n",
              "\n",
              "  .colab-df-quickchart {\n",
              "    background-color: var(--bg-color);\n",
              "    border: none;\n",
              "    border-radius: 50%;\n",
              "    cursor: pointer;\n",
              "    display: none;\n",
              "    fill: var(--fill-color);\n",
              "    height: 32px;\n",
              "    padding: 0;\n",
              "    width: 32px;\n",
              "  }\n",
              "\n",
              "  .colab-df-quickchart:hover {\n",
              "    background-color: var(--hover-bg-color);\n",
              "    box-shadow: 0 1px 2px rgba(60, 64, 67, 0.3), 0 1px 3px 1px rgba(60, 64, 67, 0.15);\n",
              "    fill: var(--button-hover-fill-color);\n",
              "  }\n",
              "\n",
              "  .colab-df-quickchart-complete:disabled,\n",
              "  .colab-df-quickchart-complete:disabled:hover {\n",
              "    background-color: var(--disabled-bg-color);\n",
              "    fill: var(--disabled-fill-color);\n",
              "    box-shadow: none;\n",
              "  }\n",
              "\n",
              "  .colab-df-spinner {\n",
              "    border: 2px solid var(--fill-color);\n",
              "    border-color: transparent;\n",
              "    border-bottom-color: var(--fill-color);\n",
              "    animation:\n",
              "      spin 1s steps(1) infinite;\n",
              "  }\n",
              "\n",
              "  @keyframes spin {\n",
              "    0% {\n",
              "      border-color: transparent;\n",
              "      border-bottom-color: var(--fill-color);\n",
              "      border-left-color: var(--fill-color);\n",
              "    }\n",
              "    20% {\n",
              "      border-color: transparent;\n",
              "      border-left-color: var(--fill-color);\n",
              "      border-top-color: var(--fill-color);\n",
              "    }\n",
              "    30% {\n",
              "      border-color: transparent;\n",
              "      border-left-color: var(--fill-color);\n",
              "      border-top-color: var(--fill-color);\n",
              "      border-right-color: var(--fill-color);\n",
              "    }\n",
              "    40% {\n",
              "      border-color: transparent;\n",
              "      border-right-color: var(--fill-color);\n",
              "      border-top-color: var(--fill-color);\n",
              "    }\n",
              "    60% {\n",
              "      border-color: transparent;\n",
              "      border-right-color: var(--fill-color);\n",
              "    }\n",
              "    80% {\n",
              "      border-color: transparent;\n",
              "      border-right-color: var(--fill-color);\n",
              "      border-bottom-color: var(--fill-color);\n",
              "    }\n",
              "    90% {\n",
              "      border-color: transparent;\n",
              "      border-bottom-color: var(--fill-color);\n",
              "    }\n",
              "  }\n",
              "</style>\n",
              "\n",
              "  <script>\n",
              "    async function quickchart(key) {\n",
              "      const quickchartButtonEl =\n",
              "        document.querySelector('#' + key + ' button');\n",
              "      quickchartButtonEl.disabled = true;  // To prevent multiple clicks.\n",
              "      quickchartButtonEl.classList.add('colab-df-spinner');\n",
              "      try {\n",
              "        const charts = await google.colab.kernel.invokeFunction(\n",
              "            'suggestCharts', [key], {});\n",
              "      } catch (error) {\n",
              "        console.error('Error during call to suggestCharts:', error);\n",
              "      }\n",
              "      quickchartButtonEl.classList.remove('colab-df-spinner');\n",
              "      quickchartButtonEl.classList.add('colab-df-quickchart-complete');\n",
              "    }\n",
              "    (() => {\n",
              "      let quickchartButtonEl =\n",
              "        document.querySelector('#df-848ac6b0-ea5d-4c6e-b434-b26827990eda button');\n",
              "      quickchartButtonEl.style.display =\n",
              "        google.colab.kernel.accessAllowed ? 'block' : 'none';\n",
              "    })();\n",
              "  </script>\n",
              "</div>\n",
              "\n",
              "    </div>\n",
              "  </div>\n"
            ],
            "application/vnd.google.colaboratory.intrinsic+json": {
              "type": "dataframe",
              "variable_name": "raw_data",
              "summary": "{\n  \"name\": \"raw_data\",\n  \"rows\": 1190,\n  \"fields\": [\n    {\n      \"column\": \"age\",\n      \"properties\": {\n        \"dtype\": \"number\",\n        \"std\": 9,\n        \"min\": 28,\n        \"max\": 77,\n        \"num_unique_values\": 50,\n        \"samples\": [\n          44,\n          68,\n          66\n        ],\n        \"semantic_type\": \"\",\n        \"description\": \"\"\n      }\n    },\n    {\n      \"column\": \"sex\",\n      \"properties\": {\n        \"dtype\": \"number\",\n        \"std\": 0,\n        \"min\": 0,\n        \"max\": 1,\n        \"num_unique_values\": 2,\n        \"samples\": [\n          0,\n          1\n        ],\n        \"semantic_type\": \"\",\n        \"description\": \"\"\n      }\n    },\n    {\n      \"column\": \"chest pain type\",\n      \"properties\": {\n        \"dtype\": \"number\",\n        \"std\": 0,\n        \"min\": 1,\n        \"max\": 4,\n        \"num_unique_values\": 4,\n        \"samples\": [\n          3,\n          1\n        ],\n        \"semantic_type\": \"\",\n        \"description\": \"\"\n      }\n    },\n    {\n      \"column\": \"resting bp s\",\n      \"properties\": {\n        \"dtype\": \"number\",\n        \"std\": 18,\n        \"min\": 0,\n        \"max\": 200,\n        \"num_unique_values\": 67,\n        \"samples\": [\n          165,\n          118\n        ],\n        \"semantic_type\": \"\",\n        \"description\": \"\"\n      }\n    },\n    {\n      \"column\": \"cholesterol\",\n      \"properties\": {\n        \"dtype\": \"number\",\n        \"std\": 101,\n        \"min\": 0,\n        \"max\": 603,\n        \"num_unique_values\": 222,\n        \"samples\": [\n          305,\n          321\n        ],\n        \"semantic_type\": \"\",\n        \"description\": \"\"\n      }\n    },\n    {\n      \"column\": \"fasting blood sugar\",\n      \"properties\": {\n        \"dtype\": \"number\",\n        \"std\": 0,\n        \"min\": 0,\n        \"max\": 1,\n        \"num_unique_values\": 2,\n        \"samples\": [\n          1,\n          0\n        ],\n        \"semantic_type\": \"\",\n        \"description\": \"\"\n      }\n    },\n    {\n      \"column\": \"resting ecg\",\n      \"properties\": {\n        \"dtype\": \"number\",\n        \"std\": 0,\n        \"min\": 0,\n        \"max\": 2,\n        \"num_unique_values\": 3,\n        \"samples\": [\n          0,\n          1\n        ],\n        \"semantic_type\": \"\",\n        \"description\": \"\"\n      }\n    },\n    {\n      \"column\": \"max heart rate\",\n      \"properties\": {\n        \"dtype\": \"number\",\n        \"std\": 25,\n        \"min\": 60,\n        \"max\": 202,\n        \"num_unique_values\": 119,\n        \"samples\": [\n          132,\n          157\n        ],\n        \"semantic_type\": \"\",\n        \"description\": \"\"\n      }\n    },\n    {\n      \"column\": \"exercise angina\",\n      \"properties\": {\n        \"dtype\": \"number\",\n        \"std\": 0,\n        \"min\": 0,\n        \"max\": 1,\n        \"num_unique_values\": 2,\n        \"samples\": [\n          1,\n          0\n        ],\n        \"semantic_type\": \"\",\n        \"description\": \"\"\n      }\n    },\n    {\n      \"column\": \"oldpeak\",\n      \"properties\": {\n        \"dtype\": \"number\",\n        \"std\": 1.0863372185219862,\n        \"min\": -2.6,\n        \"max\": 6.2,\n        \"num_unique_values\": 53,\n        \"samples\": [\n          1.3,\n          0.6\n        ],\n        \"semantic_type\": \"\",\n        \"description\": \"\"\n      }\n    },\n    {\n      \"column\": \"ST slope\",\n      \"properties\": {\n        \"dtype\": \"number\",\n        \"std\": 0,\n        \"min\": 0,\n        \"max\": 3,\n        \"num_unique_values\": 4,\n        \"samples\": [\n          2,\n          0\n        ],\n        \"semantic_type\": \"\",\n        \"description\": \"\"\n      }\n    },\n    {\n      \"column\": \"target\",\n      \"properties\": {\n        \"dtype\": \"number\",\n        \"std\": 0,\n        \"min\": 0,\n        \"max\": 1,\n        \"num_unique_values\": 2,\n        \"samples\": [\n          1,\n          0\n        ],\n        \"semantic_type\": \"\",\n        \"description\": \"\"\n      }\n    }\n  ]\n}"
            }
          },
          "metadata": {},
          "execution_count": 3
        }
      ]
    },
    {
      "cell_type": "code",
      "source": [
        "raw_data.shape"
      ],
      "metadata": {
        "colab": {
          "base_uri": "https://localhost:8080/"
        },
        "id": "96fbPAQd5l6u",
        "outputId": "afbe0134-2c15-4b6b-c568-97764e876a72"
      },
      "execution_count": null,
      "outputs": [
        {
          "output_type": "execute_result",
          "data": {
            "text/plain": [
              "(1190, 12)"
            ]
          },
          "metadata": {},
          "execution_count": 4
        }
      ]
    },
    {
      "cell_type": "code",
      "source": [
        "raw_data['target'].value_counts()"
      ],
      "metadata": {
        "colab": {
          "base_uri": "https://localhost:8080/"
        },
        "id": "-00YzF0DVmfv",
        "outputId": "c11c1b13-8c12-493f-fb9e-f8f98bfd8767"
      },
      "execution_count": null,
      "outputs": [
        {
          "output_type": "execute_result",
          "data": {
            "text/plain": [
              "target\n",
              "1    629\n",
              "0    561\n",
              "Name: count, dtype: int64"
            ]
          },
          "metadata": {},
          "execution_count": 5
        }
      ]
    },
    {
      "cell_type": "code",
      "source": [
        "raw_data['chest pain type'].value_counts()"
      ],
      "metadata": {
        "colab": {
          "base_uri": "https://localhost:8080/"
        },
        "id": "VgxKUjZSaz9F",
        "outputId": "c0e143ee-49f7-4d6b-83de-030a60dbf672"
      },
      "execution_count": null,
      "outputs": [
        {
          "output_type": "execute_result",
          "data": {
            "text/plain": [
              "chest pain type\n",
              "4    625\n",
              "3    283\n",
              "2    216\n",
              "1     66\n",
              "Name: count, dtype: int64"
            ]
          },
          "metadata": {},
          "execution_count": 6
        }
      ]
    },
    {
      "cell_type": "code",
      "source": [
        "raw_data['fasting blood sugar'].value_counts()"
      ],
      "metadata": {
        "colab": {
          "base_uri": "https://localhost:8080/"
        },
        "id": "qxlFJvg7cnzm",
        "outputId": "64a8d557-d81e-432e-f595-70e41a92c950"
      },
      "execution_count": null,
      "outputs": [
        {
          "output_type": "execute_result",
          "data": {
            "text/plain": [
              "fasting blood sugar\n",
              "0    936\n",
              "1    254\n",
              "Name: count, dtype: int64"
            ]
          },
          "metadata": {},
          "execution_count": 7
        }
      ]
    },
    {
      "cell_type": "code",
      "source": [
        "raw_data['resting ecg'].value_counts()"
      ],
      "metadata": {
        "colab": {
          "base_uri": "https://localhost:8080/"
        },
        "id": "L8GJolZNdDus",
        "outputId": "44702ccc-7c11-4662-befb-aa951d3cfb1d"
      },
      "execution_count": null,
      "outputs": [
        {
          "output_type": "execute_result",
          "data": {
            "text/plain": [
              "resting ecg\n",
              "0    684\n",
              "2    325\n",
              "1    181\n",
              "Name: count, dtype: int64"
            ]
          },
          "metadata": {},
          "execution_count": 8
        }
      ]
    },
    {
      "cell_type": "code",
      "source": [
        "raw_data['exercise angina'].value_counts()"
      ],
      "metadata": {
        "colab": {
          "base_uri": "https://localhost:8080/"
        },
        "id": "F2XNrzmKez3S",
        "outputId": "fc598cbb-45a3-4d08-f379-6b3b823c4836"
      },
      "execution_count": null,
      "outputs": [
        {
          "output_type": "execute_result",
          "data": {
            "text/plain": [
              "exercise angina\n",
              "0    729\n",
              "1    461\n",
              "Name: count, dtype: int64"
            ]
          },
          "metadata": {},
          "execution_count": 9
        }
      ]
    },
    {
      "cell_type": "code",
      "source": [
        "raw_data['oldpeak'].value_counts()"
      ],
      "metadata": {
        "colab": {
          "base_uri": "https://localhost:8080/"
        },
        "collapsed": true,
        "id": "QVP7zTgLfhb-",
        "outputId": "519c8b92-7285-4923-c439-c70fde05c5fb"
      },
      "execution_count": null,
      "outputs": [
        {
          "output_type": "execute_result",
          "data": {
            "text/plain": [
              "oldpeak\n",
              " 0.0    455\n",
              " 1.0     98\n",
              " 2.0     84\n",
              " 1.5     58\n",
              " 1.2     40\n",
              " 0.2     33\n",
              " 3.0     32\n",
              " 1.4     31\n",
              " 1.6     27\n",
              " 1.8     27\n",
              " 0.8     27\n",
              " 0.6     26\n",
              " 0.5     24\n",
              " 0.1     20\n",
              " 0.4     19\n",
              " 2.5     18\n",
              " 0.3     14\n",
              " 2.6     13\n",
              " 1.9     12\n",
              " 2.8     11\n",
              " 4.0     10\n",
              " 2.2      9\n",
              " 1.1      9\n",
              " 3.6      8\n",
              " 0.7      8\n",
              " 1.3      8\n",
              " 0.9      7\n",
              " 2.4      7\n",
              " 1.7      6\n",
              " 3.4      5\n",
              " 4.2      4\n",
              " 2.3      4\n",
              " 3.2      4\n",
              " 2.1      3\n",
              " 3.5      3\n",
              "-0.5      2\n",
              " 6.2      2\n",
              " 3.8      2\n",
              " 2.9      2\n",
              " 5.6      2\n",
              "-1.0      2\n",
              "-0.1      2\n",
              " 3.1      2\n",
              "-1.5      1\n",
              "-2.0      1\n",
              " 3.7      1\n",
              "-0.8      1\n",
              "-0.7      1\n",
              "-1.1      1\n",
              "-2.6      1\n",
              "-0.9      1\n",
              " 5.0      1\n",
              " 4.4      1\n",
              "Name: count, dtype: int64"
            ]
          },
          "metadata": {},
          "execution_count": 10
        }
      ]
    },
    {
      "cell_type": "code",
      "source": [
        "raw_data['ST slope'].value_counts()"
      ],
      "metadata": {
        "colab": {
          "base_uri": "https://localhost:8080/"
        },
        "id": "qPQ8G7Ptf1c9",
        "outputId": "3938c9c4-cb7a-4b4e-8176-be3361644556"
      },
      "execution_count": null,
      "outputs": [
        {
          "output_type": "execute_result",
          "data": {
            "text/plain": [
              "ST slope\n",
              "2    582\n",
              "1    526\n",
              "3     81\n",
              "0      1\n",
              "Name: count, dtype: int64"
            ]
          },
          "metadata": {},
          "execution_count": 11
        }
      ]
    },
    {
      "cell_type": "markdown",
      "source": [
        "#PLOT THE DISTRIBUTION OF DISEASE\n",
        "0-->no heart disease\n",
        "1-->heart disease"
      ],
      "metadata": {
        "id": "Wrp_PeY7WSVW"
      }
    },
    {
      "cell_type": "code",
      "source": [
        "fig=plt.figure()\n",
        "ax=fig.add_axes([0,0,1,1])\n",
        "ax.pie([len(raw_data[raw_data['target']==0]),len(raw_data[raw_data['target']==1])],labels=['no heart disease','heart disease'],autopct='%1.1f%%')\n",
        "plt.title('Distribution of Disease')\n",
        "plt.show()"
      ],
      "metadata": {
        "colab": {
          "base_uri": "https://localhost:8080/",
          "height": 539
        },
        "id": "JQ_x2aP-WRpr",
        "outputId": "c46bf260-9546-41e9-d130-eba84bf30430"
      },
      "execution_count": null,
      "outputs": [
        {
          "output_type": "display_data",
          "data": {
            "text/plain": [
              "<Figure size 640x480 with 1 Axes>"
            ],
            "image/png": "[encoded data removed]"
          },
          "metadata": {}
        }
      ]
    },
    {
      "cell_type": "markdown",
      "source": [
        "#PLOT THE ATTRIBUTE STATISTICS"
      ],
      "metadata": {
        "id": "118rYzyaYoUg"
      }
    },
    {
      "cell_type": "code",
      "source": [
        "mean_age=st.mean(raw_data['age'])\n",
        "med_age=st.median(raw_data['age'])\n",
        "mode_age=st.mode(raw_data['age'])\n",
        "print('mean age:',mean_age)\n",
        "print('median age:',med_age)\n",
        "print('mode age:',mode_age)"
      ],
      "metadata": {
        "colab": {
          "base_uri": "https://localhost:8080/"
        },
        "id": "1X5AwgvBWrj3",
        "outputId": "b73e37d3-0ea8-4af6-a50b-2eca06633267"
      },
      "execution_count": null,
      "outputs": [
        {
          "output_type": "stream",
          "name": "stdout",
          "text": [
            "mean age: 53.72016806722689\n",
            "median age: 54.0\n",
            "mode age: 54\n"
          ]
        }
      ]
    },
    {
      "cell_type": "code",
      "source": [
        "mode_sex=st.mode(raw_data['sex'])\n",
        "print('mode sex:',mode_sex)\n",
        "if mode_sex==1:\n",
        "  print('male')\n",
        "else:\n",
        "  print('female')"
      ],
      "metadata": {
        "colab": {
          "base_uri": "https://localhost:8080/"
        },
        "id": "JUC2cve9ZxnU",
        "outputId": "30ac3410-d9df-4c21-df5c-30328c6fe070"
      },
      "execution_count": null,
      "outputs": [
        {
          "output_type": "stream",
          "name": "stdout",
          "text": [
            "mode sex: 1\n",
            "male\n"
          ]
        }
      ]
    },
    {
      "cell_type": "code",
      "source": [
        "mode_chest_pain=st.mode(raw_data['chest pain type'])\n",
        "print('mode chest pain type:',mode_chest_pain)\n",
        "if mode_chest_pain==1:\n",
        "  print('Typical Angina')\n",
        "elif mode_chest_pain==2:\n",
        "  print('Atypical Angina')\n",
        "elif mode_chest_pain==3:\n",
        "  print('Non-Anginal Pain')\n",
        "elif mode_chest_pain==4:\n",
        "  print('Asymptomatic')"
      ],
      "metadata": {
        "colab": {
          "base_uri": "https://localhost:8080/"
        },
        "id": "QqFCadQ9aBQi",
        "outputId": "7adb159a-2a8b-4811-9323-918921dbcdea"
      },
      "execution_count": null,
      "outputs": [
        {
          "output_type": "stream",
          "name": "stdout",
          "text": [
            "mode chest pain type: 4\n",
            "Asymptomatic\n"
          ]
        }
      ]
    },
    {
      "cell_type": "code",
      "source": [
        "mean_bps=st.mean(raw_data['resting bp s'])\n",
        "med_bps=st.median(raw_data['resting bp s'])\n",
        "mode_bps=st.mode(raw_data['resting bp s'])\n",
        "print('mean resting bps:',mean_bps)\n",
        "print('median resting bps:',med_bps)\n",
        "print('mode resting bps:',mode_bps)"
      ],
      "metadata": {
        "colab": {
          "base_uri": "https://localhost:8080/"
        },
        "id": "sD-8D_QQaxOH",
        "outputId": "7fe71a42-406e-4705-fea7-275136d05978"
      },
      "execution_count": null,
      "outputs": [
        {
          "output_type": "stream",
          "name": "stdout",
          "text": [
            "mean resting bps: 132.15378151260504\n",
            "median resting bps: 130.0\n",
            "mode resting bps: 120\n"
          ]
        }
      ]
    },
    {
      "cell_type": "code",
      "source": [
        "mean_chl=st.mean(raw_data['cholesterol'])\n",
        "med_chl=st.median(raw_data['cholesterol'])\n",
        "mode_chl=st.mode(raw_data['cholesterol'])\n",
        "print('mean cholesterol:',mean_chl)\n",
        "print('median cholesterol:',med_chl)\n",
        "print('mode cholesterol:',mode_chl)"
      ],
      "metadata": {
        "colab": {
          "base_uri": "https://localhost:8080/"
        },
        "id": "_A0NtPLtb4sP",
        "outputId": "57a7d460-a0a1-4f02-d984-1b3e345e3ed0"
      },
      "execution_count": null,
      "outputs": [
        {
          "output_type": "stream",
          "name": "stdout",
          "text": [
            "mean cholesterol: 210.36386554621848\n",
            "median cholesterol: 229.0\n",
            "mode cholesterol: 0\n"
          ]
        }
      ]
    },
    {
      "cell_type": "code",
      "source": [
        "mode_fast=st.mode(raw_data['fasting blood sugar'])\n",
        "print('mode fasting blood sugar:',mode_fast)"
      ],
      "metadata": {
        "colab": {
          "base_uri": "https://localhost:8080/"
        },
        "id": "abZXyTZgcgfo",
        "outputId": "8f4c5912-704d-495a-8f75-ff2523a0a0f5"
      },
      "execution_count": null,
      "outputs": [
        {
          "output_type": "stream",
          "name": "stdout",
          "text": [
            "mode fasting blood sugar: 0\n"
          ]
        }
      ]
    },
    {
      "cell_type": "code",
      "source": [
        "mode_ecg=st.mode(raw_data['resting ecg'])\n",
        "print('mode resting ecg:',mode_ecg)\n",
        "if mode_ecg==0:\n",
        "  print('Normal')\n",
        "elif mode_ecg==1:\n",
        "  print('ST-T wave abnormality')\n",
        "elif mode_ecg==2:\n",
        "  print('left ventricular hypertrophy')"
      ],
      "metadata": {
        "colab": {
          "base_uri": "https://localhost:8080/"
        },
        "id": "nL4-PWWQc-xa",
        "outputId": "98ec3eb4-470c-47ac-c469-7f41589d318b"
      },
      "execution_count": null,
      "outputs": [
        {
          "output_type": "stream",
          "name": "stdout",
          "text": [
            "mode resting ecg: 0\n",
            "Normal\n"
          ]
        }
      ]
    },
    {
      "cell_type": "code",
      "source": [
        "mean_max_heart=st.mean(raw_data['max heart rate'])\n",
        "med_max_heart=st.median(raw_data['max heart rate'])\n",
        "mode_max_heart=st.mode(raw_data['max heart rate'])\n",
        "print('mean max heart rate:',mean_max_heart)\n",
        "print('median max heart rate:',med_max_heart)\n",
        "print('mode max heart rate:',mode_max_heart)"
      ],
      "metadata": {
        "colab": {
          "base_uri": "https://localhost:8080/"
        },
        "id": "HfN3BuUzdjrZ",
        "outputId": "ca963702-5145-4997-b4aa-d4babe916f86"
      },
      "execution_count": null,
      "outputs": [
        {
          "output_type": "stream",
          "name": "stdout",
          "text": [
            "mean max heart rate: 139.7327731092437\n",
            "median max heart rate: 140.5\n",
            "mode max heart rate: 150\n"
          ]
        }
      ]
    },
    {
      "cell_type": "code",
      "source": [
        "mode_ang=st.mode(raw_data['exercise angina'])\n",
        "print('mode exercise angina:',mode_ang)\n",
        "if mode_ang==0:\n",
        "  print('No Pain')\n",
        "else:\n",
        "  print('Yes,There\\'s pain')"
      ],
      "metadata": {
        "colab": {
          "base_uri": "https://localhost:8080/"
        },
        "id": "X9CuBJ3Uewj-",
        "outputId": "df17f95b-376c-4bd4-dc04-d89aac5086b0"
      },
      "execution_count": null,
      "outputs": [
        {
          "output_type": "stream",
          "name": "stdout",
          "text": [
            "mode exercise angina: 0\n",
            "No Pain\n"
          ]
        }
      ]
    },
    {
      "cell_type": "code",
      "source": [
        "mean_peak=st.mean(raw_data['oldpeak'])\n",
        "med_peak=st.median(raw_data['oldpeak'])\n",
        "mode_peak=st.mode(raw_data['oldpeak'])\n",
        "print('mean oldpeak:',mean_peak)\n",
        "print('median oldpeak:',med_peak)\n",
        "print('mode oldpeak:',mode_peak)"
      ],
      "metadata": {
        "colab": {
          "base_uri": "https://localhost:8080/"
        },
        "id": "wT0P_T91fSll",
        "outputId": "790de7ac-fa33-453f-f72c-53ebc56bb1d6"
      },
      "execution_count": null,
      "outputs": [
        {
          "output_type": "stream",
          "name": "stdout",
          "text": [
            "mean oldpeak: 0.9227731092436975\n",
            "median oldpeak: 0.6\n",
            "mode oldpeak: 0.0\n"
          ]
        }
      ]
    },
    {
      "cell_type": "code",
      "source": [
        "mode_st=st.mode(raw_data['ST slope'])\n",
        "print('mode ST slope:',mode_st)"
      ],
      "metadata": {
        "colab": {
          "base_uri": "https://localhost:8080/"
        },
        "id": "7gh1vpU4fx2H",
        "outputId": "6eb54b45-fc89-44bf-970b-f43fc84925ad"
      },
      "execution_count": null,
      "outputs": [
        {
          "output_type": "stream",
          "name": "stdout",
          "text": [
            "mode ST slope: 2\n"
          ]
        }
      ]
    },
    {
      "cell_type": "code",
      "source": [
        "mode_tar=st.mode(raw_data['target'])\n",
        "print('mode target:',mode_tar)\n",
        "if mode_tar==0:\n",
        "  print('no heart disease')\n",
        "else:\n",
        "  print('heart disease')"
      ],
      "metadata": {
        "colab": {
          "base_uri": "https://localhost:8080/"
        },
        "id": "HxLALJK9g4fy",
        "outputId": "0c55a53a-aaea-42a8-9458-5daad0fd981f"
      },
      "execution_count": null,
      "outputs": [
        {
          "output_type": "stream",
          "name": "stdout",
          "text": [
            "mode target: 1\n",
            "heart disease\n"
          ]
        }
      ]
    },
    {
      "cell_type": "markdown",
      "source": [
        "#5 NO. SUMMARY"
      ],
      "metadata": {
        "id": "jjWudEuzh1kY"
      }
    },
    {
      "cell_type": "code",
      "source": [
        "#MAX HEART RATE\n",
        "min_max_heart=raw_data['max heart rate'].min()\n",
        "max_max_heart=raw_data['max heart rate'].max()\n",
        "Q2=st.median(raw_data['max heart rate'])\n",
        "l1=[]\n",
        "l2=[]\n",
        "for i in raw_data['max heart rate']:\n",
        "  if i<Q2:\n",
        "    l1.append(i)\n",
        "  else:\n",
        "    l2.append(i)\n",
        "Q1=st.median(l1)\n",
        "Q3=st.median(l2)\n",
        "IQR=Q3-Q1\n",
        "low_fence=Q1-(1.5*IQR)\n",
        "high_fence=Q3+(1.5*IQR)\n",
        "print('min max heart rate:',min_max_heart)\n",
        "print('max max heart rate:',max_max_heart)\n",
        "print('Q1:',Q1)\n",
        "print('Median:',Q2)\n",
        "print('Q3:',Q3)"
      ],
      "metadata": {
        "colab": {
          "base_uri": "https://localhost:8080/"
        },
        "id": "iyIge4lvhDwQ",
        "outputId": "3ebc4aae-6d20-409a-ebc3-e6eec82255d5"
      },
      "execution_count": null,
      "outputs": [
        {
          "output_type": "stream",
          "name": "stdout",
          "text": [
            "min max heart rate: 60\n",
            "max max heart rate: 202\n",
            "Q1: 121\n",
            "Median: 140.5\n",
            "Q3: 160\n"
          ]
        }
      ]
    },
    {
      "cell_type": "code",
      "source": [
        "#RESTING BP S\n",
        "min_bp=raw_data['resting bp s'].min()\n",
        "max_bp=raw_data['resting bp s'].max()\n",
        "Q2=st.median(raw_data['resting bp s'])\n",
        "l1=[]\n",
        "l2=[]\n",
        "for i in raw_data['resting bp s']:\n",
        "  if i<Q2:\n",
        "    l1.append(i)\n",
        "  else:\n",
        "    l2.append(i)\n",
        "Q1=st.median(l1)\n",
        "Q3=st.median(l2)\n",
        "IQR=Q3-Q1\n",
        "low_fence=Q1-(1.5*IQR)\n",
        "high_fence=Q3+(1.5*IQR)\n",
        "print('min resting bp s:',min_bp)\n",
        "print('max resting bp s:',max_bp)\n",
        "print('Q1:',Q1)\n",
        "print('Median:',Q2)\n",
        "print('Q3:',Q3)"
      ],
      "metadata": {
        "colab": {
          "base_uri": "https://localhost:8080/"
        },
        "id": "eriU0Y9cigIy",
        "outputId": "24b7ac1c-7b9f-45c1-a66c-3801af71e26a"
      },
      "execution_count": null,
      "outputs": [
        {
          "output_type": "stream",
          "name": "stdout",
          "text": [
            "min resting bp s: 0\n",
            "max resting bp s: 200\n",
            "Q1: 120\n",
            "Median: 130.0\n",
            "Q3: 140\n"
          ]
        }
      ]
    },
    {
      "cell_type": "code",
      "source": [
        "#CHOLESTEROL\n",
        "min_chl=raw_data['cholesterol'].min()\n",
        "max_chl=raw_data['cholesterol'].max()\n",
        "Q2=st.median(raw_data['cholesterol'])\n",
        "l1=[]\n",
        "l2=[]\n",
        "for i in raw_data['cholesterol']:\n",
        "  if i<Q2:\n",
        "    l1.append(i)\n",
        "  else:\n",
        "    l2.append(i)\n",
        "Q1=st.median(l1)\n",
        "Q3=st.median(l2)\n",
        "IQR=Q3-Q1\n",
        "low_fence=Q1-(1.5*IQR)\n",
        "high_fence=Q3+(1.5*IQR)\n",
        "print('min cholesterol:',min_chl)\n",
        "print('max cholesterol:',max_chl)\n",
        "print('Q1:',Q1)\n",
        "print('Median:',Q2)\n",
        "print('Q3:',Q3)"
      ],
      "metadata": {
        "colab": {
          "base_uri": "https://localhost:8080/"
        },
        "id": "J5EP8Mc4lkV8",
        "outputId": "9cb51e85-a043-4bd5-8328-46dc4174f4d4"
      },
      "execution_count": null,
      "outputs": [
        {
          "output_type": "stream",
          "name": "stdout",
          "text": [
            "min cholesterol: 0\n",
            "max cholesterol: 603\n",
            "Q1: 188.0\n",
            "Median: 229.0\n",
            "Q3: 269.0\n"
          ]
        }
      ]
    },
    {
      "cell_type": "markdown",
      "source": [
        "#LIST OF OUTLIERS"
      ],
      "metadata": {
        "id": "ZopyOPkunL6R"
      }
    },
    {
      "cell_type": "code",
      "source": [
        "#MAX HEART RATE\n",
        "Q=raw_data['max heart rate'].median()\n",
        "Q1=raw_data['max heart rate'].quantile(0.25)\n",
        "Q3=raw_data['max heart rate'].quantile(0.75)\n",
        "IQR=Q3-Q1\n",
        "low_fence=Q1-1.5*IQR\n",
        "high_fence=Q3+1.5*IQR\n",
        "outliers = []\n",
        "for value in raw_data['max heart rate']:\n",
        "    if value < low_fence or value > high_fence:\n",
        "        outliers.append(value)\n",
        "print('Lower fence:',low_fence)\n",
        "print('Upper fence:',high_fence)\n",
        "print(\"Number of outliers:\", len(outliers))\n",
        "print(\"Outliers:\", outliers)"
      ],
      "metadata": {
        "colab": {
          "base_uri": "https://localhost:8080/"
        },
        "id": "aBIVqGc_nMrI",
        "outputId": "acb8c27d-14f4-40e8-e793-f7105cbc5f0f"
      },
      "execution_count": null,
      "outputs": [
        {
          "output_type": "stream",
          "name": "stdout",
          "text": [
            "Lower fence: 62.5\n",
            "Upper fence: 218.5\n",
            "Number of outliers: 1\n",
            "Outliers: [60]\n"
          ]
        }
      ]
    },
    {
      "cell_type": "code",
      "source": [
        "#CHOLESTEROL\n",
        "Q1=raw_data['cholesterol'].quantile(0.25)\n",
        "Q3=raw_data['cholesterol'].quantile(0.75)\n",
        "IQR=Q3-Q1\n",
        "outlier=[]\n",
        "uf=Q3+1.5*(IQR)\n",
        "Lf=Q1-1.5*(IQR)\n",
        "print('Lower fence:',Lf)\n",
        "print('Upper fence:',uf)\n",
        "outliers = []\n",
        "for value in raw_data['cholesterol']:\n",
        "    if value < Lf or value > uf:\n",
        "        outliers.append(value)\n",
        "\n",
        "print(\"Number of outliers:\", len(outliers))\n",
        "print(\"Outliers:\", outliers)"
      ],
      "metadata": {
        "colab": {
          "base_uri": "https://localhost:8080/"
        },
        "id": "ChIfDqCpntlC",
        "outputId": "6e2e51f7-69d7-452d-8976-1557179aa097"
      },
      "execution_count": null,
      "outputs": [
        {
          "output_type": "stream",
          "name": "stdout",
          "text": [
            "Lower fence: 65.375\n",
            "Upper fence: 392.375\n",
            "Number of outliers: 193\n",
            "Outliers: [468, 518, 412, 529, 466, 393, 603, 404, 491, 394, 0, 0, 0, 0, 0, 0, 0, 0, 0, 0, 0, 0, 0, 0, 0, 0, 0, 0, 0, 0, 0, 0, 0, 0, 0, 0, 0, 0, 0, 0, 0, 0, 0, 0, 0, 0, 0, 0, 0, 0, 0, 0, 0, 0, 0, 0, 0, 0, 0, 0, 0, 0, 0, 0, 0, 0, 0, 0, 0, 0, 0, 0, 0, 0, 0, 0, 0, 0, 0, 0, 0, 0, 0, 0, 0, 0, 0, 0, 0, 0, 0, 0, 0, 0, 0, 0, 0, 0, 0, 0, 0, 0, 0, 0, 0, 0, 0, 0, 0, 0, 0, 0, 0, 0, 0, 0, 0, 0, 0, 0, 0, 0, 0, 0, 0, 0, 0, 0, 0, 0, 0, 0, 0, 0, 0, 0, 0, 0, 0, 0, 0, 0, 0, 0, 0, 0, 0, 0, 0, 0, 0, 0, 0, 0, 0, 0, 0, 0, 0, 0, 0, 0, 0, 0, 0, 0, 0, 0, 0, 0, 0, 0, 0, 0, 0, 0, 458, 0, 0, 0, 0, 0, 0, 564, 407, 417, 409, 394, 417, 407, 564, 394, 409]\n"
          ]
        }
      ]
    },
    {
      "cell_type": "code",
      "source": [
        "#RESTING BPS\n",
        "Q1=raw_data['resting bp s'].quantile(0.25)\n",
        "Q=raw_data['resting bp s'].mean()\n",
        "Q3=raw_data['resting bp s'].quantile(0.75)\n",
        "IQR=Q3-Q1\n",
        "outlier=[]\n",
        "uf1=Q3+1.5*(IQR)\n",
        "Lf1=Q1-1.5*(IQR)\n",
        "outliers = []\n",
        "for value in raw_data['resting bp s']:\n",
        "    if value < Lf1 or value > uf1:\n",
        "        outliers.append(value)\n",
        "print('Lower fence:',Lf1)\n",
        "print('Upper fence:',uf1)\n",
        "print(\"Number of outliers:\", len(outliers))\n",
        "print(\"Outliers:\", outliers)"
      ],
      "metadata": {
        "colab": {
          "base_uri": "https://localhost:8080/"
        },
        "id": "uFrMt-oz7WBm",
        "outputId": "347f5f67-0494-4726-d90f-068e18d54e51"
      },
      "execution_count": null,
      "outputs": [
        {
          "output_type": "stream",
          "name": "stdout",
          "text": [
            "Lower fence: 90.0\n",
            "Upper fence: 170.0\n",
            "Number of outliers: 37\n",
            "Outliers: [190, 180, 180, 180, 200, 180, 180, 180, 80, 200, 185, 200, 180, 180, 0, 178, 172, 180, 190, 174, 178, 180, 200, 192, 178, 180, 180, 172, 172, 180, 200, 174, 178, 192, 180, 178, 180]\n"
          ]
        }
      ]
    }
  ]
}