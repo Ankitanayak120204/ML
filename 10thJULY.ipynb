{
  "nbformat": 4,
  "nbformat_minor": 0,
  "metadata": {
    "colab": {
      "provenance": [],
      "collapsed_sections": [
        "0E_CtqteNXla"
      ],
      "authorship_tag": "ABX9TyN34cddHZMEhHILU5G66HyC"
    },
    "kernelspec": {
      "name": "python3",
      "display_name": "Python 3"
    },
    "language_info": {
      "name": "python"
    }
  },
  "cells": [
    {
      "cell_type": "markdown",
      "source": [
        "#SIMPLE LINEAR REGRESSION"
      ],
      "metadata": {
        "id": "0E_CtqteNXla"
      }
    },
    {
      "cell_type": "code",
      "execution_count": 89,
      "metadata": {
        "colab": {
          "base_uri": "https://localhost:8080/",
          "height": 0
        },
        "id": "wpOGrkRNHfn2",
        "outputId": "55439d09-266a-4c58-9c4f-6e4f1ca9188d"
      },
      "outputs": [
        {
          "output_type": "execute_result",
          "data": {
            "text/plain": [
              "    X   Y\n",
              "0   6   9\n",
              "1   2  11\n",
              "2  10   5\n",
              "3   4   8\n",
              "4   8   7\n",
              "5  18   2\n",
              "6  11   9\n",
              "7  15   5\n",
              "8  16   5\n",
              "9   3  20"
            ],
            "text/html": [
              "\n",
              "  <div id=\"df-ed796d5d-dfc0-4492-9c6f-772dc98d04db\" class=\"colab-df-container\">\n",
              "    <div>\n",
              "<style scoped>\n",
              "    .dataframe tbody tr th:only-of-type {\n",
              "        vertical-align: middle;\n",
              "    }\n",
              "\n",
              "    .dataframe tbody tr th {\n",
              "        vertical-align: top;\n",
              "    }\n",
              "\n",
              "    .dataframe thead th {\n",
              "        text-align: right;\n",
              "    }\n",
              "</style>\n",
              "<table border=\"1\" class=\"dataframe\">\n",
              "  <thead>\n",
              "    <tr style=\"text-align: right;\">\n",
              "      <th></th>\n",
              "      <th>X</th>\n",
              "      <th>Y</th>\n",
              "    </tr>\n",
              "  </thead>\n",
              "  <tbody>\n",
              "    <tr>\n",
              "      <th>0</th>\n",
              "      <td>6</td>\n",
              "      <td>9</td>\n",
              "    </tr>\n",
              "    <tr>\n",
              "      <th>1</th>\n",
              "      <td>2</td>\n",
              "      <td>11</td>\n",
              "    </tr>\n",
              "    <tr>\n",
              "      <th>2</th>\n",
              "      <td>10</td>\n",
              "      <td>5</td>\n",
              "    </tr>\n",
              "    <tr>\n",
              "      <th>3</th>\n",
              "      <td>4</td>\n",
              "      <td>8</td>\n",
              "    </tr>\n",
              "    <tr>\n",
              "      <th>4</th>\n",
              "      <td>8</td>\n",
              "      <td>7</td>\n",
              "    </tr>\n",
              "    <tr>\n",
              "      <th>5</th>\n",
              "      <td>18</td>\n",
              "      <td>2</td>\n",
              "    </tr>\n",
              "    <tr>\n",
              "      <th>6</th>\n",
              "      <td>11</td>\n",
              "      <td>9</td>\n",
              "    </tr>\n",
              "    <tr>\n",
              "      <th>7</th>\n",
              "      <td>15</td>\n",
              "      <td>5</td>\n",
              "    </tr>\n",
              "    <tr>\n",
              "      <th>8</th>\n",
              "      <td>16</td>\n",
              "      <td>5</td>\n",
              "    </tr>\n",
              "    <tr>\n",
              "      <th>9</th>\n",
              "      <td>3</td>\n",
              "      <td>20</td>\n",
              "    </tr>\n",
              "  </tbody>\n",
              "</table>\n",
              "</div>\n",
              "    <div class=\"colab-df-buttons\">\n",
              "\n",
              "  <div class=\"colab-df-container\">\n",
              "    <button class=\"colab-df-convert\" onclick=\"convertToInteractive('df-ed796d5d-dfc0-4492-9c6f-772dc98d04db')\"\n",
              "            title=\"Convert this dataframe to an interactive table.\"\n",
              "            style=\"display:none;\">\n",
              "\n",
              "  <svg xmlns=\"http://www.w3.org/2000/svg\" height=\"24px\" viewBox=\"0 -960 960 960\">\n",
              "    <path d=\"M120-120v-720h720v720H120Zm60-500h600v-160H180v160Zm220 220h160v-160H400v160Zm0 220h160v-160H400v160ZM180-400h160v-160H180v160Zm440 0h160v-160H620v160ZM180-180h160v-160H180v160Zm440 0h160v-160H620v160Z\"/>\n",
              "  </svg>\n",
              "    </button>\n",
              "\n",
              "  <style>\n",
              "    .colab-df-container {\n",
              "      display:flex;\n",
              "      gap: 12px;\n",
              "    }\n",
              "\n",
              "    .colab-df-convert {\n",
              "      background-color: #E8F0FE;\n",
              "      border: none;\n",
              "      border-radius: 50%;\n",
              "      cursor: pointer;\n",
              "      display: none;\n",
              "      fill: #1967D2;\n",
              "      height: 32px;\n",
              "      padding: 0 0 0 0;\n",
              "      width: 32px;\n",
              "    }\n",
              "\n",
              "    .colab-df-convert:hover {\n",
              "      background-color: #E2EBFA;\n",
              "      box-shadow: 0px 1px 2px rgba(60, 64, 67, 0.3), 0px 1px 3px 1px rgba(60, 64, 67, 0.15);\n",
              "      fill: #174EA6;\n",
              "    }\n",
              "\n",
              "    .colab-df-buttons div {\n",
              "      margin-bottom: 4px;\n",
              "    }\n",
              "\n",
              "    [theme=dark] .colab-df-convert {\n",
              "      background-color: #3B4455;\n",
              "      fill: #D2E3FC;\n",
              "    }\n",
              "\n",
              "    [theme=dark] .colab-df-convert:hover {\n",
              "      background-color: #434B5C;\n",
              "      box-shadow: 0px 1px 3px 1px rgba(0, 0, 0, 0.15);\n",
              "      filter: drop-shadow(0px 1px 2px rgba(0, 0, 0, 0.3));\n",
              "      fill: #FFFFFF;\n",
              "    }\n",
              "  </style>\n",
              "\n",
              "    <script>\n",
              "      const buttonEl =\n",
              "        document.querySelector('#df-ed796d5d-dfc0-4492-9c6f-772dc98d04db button.colab-df-convert');\n",
              "      buttonEl.style.display =\n",
              "        google.colab.kernel.accessAllowed ? 'block' : 'none';\n",
              "\n",
              "      async function convertToInteractive(key) {\n",
              "        const element = document.querySelector('#df-ed796d5d-dfc0-4492-9c6f-772dc98d04db');\n",
              "        const dataTable =\n",
              "          await google.colab.kernel.invokeFunction('convertToInteractive',\n",
              "                                                    [key], {});\n",
              "        if (!dataTable) return;\n",
              "\n",
              "        const docLinkHtml = 'Like what you see? Visit the ' +\n",
              "          '<a target=\"_blank\" href=https://colab.research.google.com/notebooks/data_table.ipynb>data table notebook</a>'\n",
              "          + ' to learn more about interactive tables.';\n",
              "        element.innerHTML = '';\n",
              "        dataTable['output_type'] = 'display_data';\n",
              "        await google.colab.output.renderOutput(dataTable, element);\n",
              "        const docLink = document.createElement('div');\n",
              "        docLink.innerHTML = docLinkHtml;\n",
              "        element.appendChild(docLink);\n",
              "      }\n",
              "    </script>\n",
              "  </div>\n",
              "\n",
              "\n",
              "<div id=\"df-8e04e597-5408-42bd-8863-bfd80a633934\">\n",
              "  <button class=\"colab-df-quickchart\" onclick=\"quickchart('df-8e04e597-5408-42bd-8863-bfd80a633934')\"\n",
              "            title=\"Suggest charts\"\n",
              "            style=\"display:none;\">\n",
              "\n",
              "<svg xmlns=\"http://www.w3.org/2000/svg\" height=\"24px\"viewBox=\"0 0 24 24\"\n",
              "     width=\"24px\">\n",
              "    <g>\n",
              "        <path d=\"M19 3H5c-1.1 0-2 .9-2 2v14c0 1.1.9 2 2 2h14c1.1 0 2-.9 2-2V5c0-1.1-.9-2-2-2zM9 17H7v-7h2v7zm4 0h-2V7h2v10zm4 0h-2v-4h2v4z\"/>\n",
              "    </g>\n",
              "</svg>\n",
              "  </button>\n",
              "\n",
              "<style>\n",
              "  .colab-df-quickchart {\n",
              "      --bg-color: #E8F0FE;\n",
              "      --fill-color: #1967D2;\n",
              "      --hover-bg-color: #E2EBFA;\n",
              "      --hover-fill-color: #174EA6;\n",
              "      --disabled-fill-color: #AAA;\n",
              "      --disabled-bg-color: #DDD;\n",
              "  }\n",
              "\n",
              "  [theme=dark] .colab-df-quickchart {\n",
              "      --bg-color: #3B4455;\n",
              "      --fill-color: #D2E3FC;\n",
              "      --hover-bg-color: #434B5C;\n",
              "      --hover-fill-color: #FFFFFF;\n",
              "      --disabled-bg-color: #3B4455;\n",
              "      --disabled-fill-color: #666;\n",
              "  }\n",
              "\n",
              "  .colab-df-quickchart {\n",
              "    background-color: var(--bg-color);\n",
              "    border: none;\n",
              "    border-radius: 50%;\n",
              "    cursor: pointer;\n",
              "    display: none;\n",
              "    fill: var(--fill-color);\n",
              "    height: 32px;\n",
              "    padding: 0;\n",
              "    width: 32px;\n",
              "  }\n",
              "\n",
              "  .colab-df-quickchart:hover {\n",
              "    background-color: var(--hover-bg-color);\n",
              "    box-shadow: 0 1px 2px rgba(60, 64, 67, 0.3), 0 1px 3px 1px rgba(60, 64, 67, 0.15);\n",
              "    fill: var(--button-hover-fill-color);\n",
              "  }\n",
              "\n",
              "  .colab-df-quickchart-complete:disabled,\n",
              "  .colab-df-quickchart-complete:disabled:hover {\n",
              "    background-color: var(--disabled-bg-color);\n",
              "    fill: var(--disabled-fill-color);\n",
              "    box-shadow: none;\n",
              "  }\n",
              "\n",
              "  .colab-df-spinner {\n",
              "    border: 2px solid var(--fill-color);\n",
              "    border-color: transparent;\n",
              "    border-bottom-color: var(--fill-color);\n",
              "    animation:\n",
              "      spin 1s steps(1) infinite;\n",
              "  }\n",
              "\n",
              "  @keyframes spin {\n",
              "    0% {\n",
              "      border-color: transparent;\n",
              "      border-bottom-color: var(--fill-color);\n",
              "      border-left-color: var(--fill-color);\n",
              "    }\n",
              "    20% {\n",
              "      border-color: transparent;\n",
              "      border-left-color: var(--fill-color);\n",
              "      border-top-color: var(--fill-color);\n",
              "    }\n",
              "    30% {\n",
              "      border-color: transparent;\n",
              "      border-left-color: var(--fill-color);\n",
              "      border-top-color: var(--fill-color);\n",
              "      border-right-color: var(--fill-color);\n",
              "    }\n",
              "    40% {\n",
              "      border-color: transparent;\n",
              "      border-right-color: var(--fill-color);\n",
              "      border-top-color: var(--fill-color);\n",
              "    }\n",
              "    60% {\n",
              "      border-color: transparent;\n",
              "      border-right-color: var(--fill-color);\n",
              "    }\n",
              "    80% {\n",
              "      border-color: transparent;\n",
              "      border-right-color: var(--fill-color);\n",
              "      border-bottom-color: var(--fill-color);\n",
              "    }\n",
              "    90% {\n",
              "      border-color: transparent;\n",
              "      border-bottom-color: var(--fill-color);\n",
              "    }\n",
              "  }\n",
              "</style>\n",
              "\n",
              "  <script>\n",
              "    async function quickchart(key) {\n",
              "      const quickchartButtonEl =\n",
              "        document.querySelector('#' + key + ' button');\n",
              "      quickchartButtonEl.disabled = true;  // To prevent multiple clicks.\n",
              "      quickchartButtonEl.classList.add('colab-df-spinner');\n",
              "      try {\n",
              "        const charts = await google.colab.kernel.invokeFunction(\n",
              "            'suggestCharts', [key], {});\n",
              "      } catch (error) {\n",
              "        console.error('Error during call to suggestCharts:', error);\n",
              "      }\n",
              "      quickchartButtonEl.classList.remove('colab-df-spinner');\n",
              "      quickchartButtonEl.classList.add('colab-df-quickchart-complete');\n",
              "    }\n",
              "    (() => {\n",
              "      let quickchartButtonEl =\n",
              "        document.querySelector('#df-8e04e597-5408-42bd-8863-bfd80a633934 button');\n",
              "      quickchartButtonEl.style.display =\n",
              "        google.colab.kernel.accessAllowed ? 'block' : 'none';\n",
              "    })();\n",
              "  </script>\n",
              "</div>\n",
              "\n",
              "  <div id=\"id_651d0b1a-4543-469f-8a03-1dbc894a65f5\">\n",
              "    <style>\n",
              "      .colab-df-generate {\n",
              "        background-color: #E8F0FE;\n",
              "        border: none;\n",
              "        border-radius: 50%;\n",
              "        cursor: pointer;\n",
              "        display: none;\n",
              "        fill: #1967D2;\n",
              "        height: 32px;\n",
              "        padding: 0 0 0 0;\n",
              "        width: 32px;\n",
              "      }\n",
              "\n",
              "      .colab-df-generate:hover {\n",
              "        background-color: #E2EBFA;\n",
              "        box-shadow: 0px 1px 2px rgba(60, 64, 67, 0.3), 0px 1px 3px 1px rgba(60, 64, 67, 0.15);\n",
              "        fill: #174EA6;\n",
              "      }\n",
              "\n",
              "      [theme=dark] .colab-df-generate {\n",
              "        background-color: #3B4455;\n",
              "        fill: #D2E3FC;\n",
              "      }\n",
              "\n",
              "      [theme=dark] .colab-df-generate:hover {\n",
              "        background-color: #434B5C;\n",
              "        box-shadow: 0px 1px 3px 1px rgba(0, 0, 0, 0.15);\n",
              "        filter: drop-shadow(0px 1px 2px rgba(0, 0, 0, 0.3));\n",
              "        fill: #FFFFFF;\n",
              "      }\n",
              "    </style>\n",
              "    <button class=\"colab-df-generate\" onclick=\"generateWithVariable('df')\"\n",
              "            title=\"Generate code using this dataframe.\"\n",
              "            style=\"display:none;\">\n",
              "\n",
              "  <svg xmlns=\"http://www.w3.org/2000/svg\" height=\"24px\"viewBox=\"0 0 24 24\"\n",
              "       width=\"24px\">\n",
              "    <path d=\"M7,19H8.4L18.45,9,17,7.55,7,17.6ZM5,21V16.75L18.45,3.32a2,2,0,0,1,2.83,0l1.4,1.43a1.91,1.91,0,0,1,.58,1.4,1.91,1.91,0,0,1-.58,1.4L9.25,21ZM18.45,9,17,7.55Zm-12,3A5.31,5.31,0,0,0,4.9,8.1,5.31,5.31,0,0,0,1,6.5,5.31,5.31,0,0,0,4.9,4.9,5.31,5.31,0,0,0,6.5,1,5.31,5.31,0,0,0,8.1,4.9,5.31,5.31,0,0,0,12,6.5,5.46,5.46,0,0,0,6.5,12Z\"/>\n",
              "  </svg>\n",
              "    </button>\n",
              "    <script>\n",
              "      (() => {\n",
              "      const buttonEl =\n",
              "        document.querySelector('#id_651d0b1a-4543-469f-8a03-1dbc894a65f5 button.colab-df-generate');\n",
              "      buttonEl.style.display =\n",
              "        google.colab.kernel.accessAllowed ? 'block' : 'none';\n",
              "\n",
              "      buttonEl.onclick = () => {\n",
              "        google.colab.notebook.generateWithVariable('df');\n",
              "      }\n",
              "      })();\n",
              "    </script>\n",
              "  </div>\n",
              "\n",
              "    </div>\n",
              "  </div>\n"
            ],
            "application/vnd.google.colaboratory.intrinsic+json": {
              "type": "dataframe",
              "variable_name": "df",
              "summary": "{\n  \"name\": \"df\",\n  \"rows\": 10,\n  \"fields\": [\n    {\n      \"column\": \"X\",\n      \"properties\": {\n        \"dtype\": \"number\",\n        \"std\": 5,\n        \"min\": 2,\n        \"max\": 18,\n        \"num_unique_values\": 10,\n        \"samples\": [\n          16,\n          2,\n          18\n        ],\n        \"semantic_type\": \"\",\n        \"description\": \"\"\n      }\n    },\n    {\n      \"column\": \"Y\",\n      \"properties\": {\n        \"dtype\": \"number\",\n        \"std\": 4,\n        \"min\": 2,\n        \"max\": 20,\n        \"num_unique_values\": 7,\n        \"samples\": [\n          9,\n          11,\n          2\n        ],\n        \"semantic_type\": \"\",\n        \"description\": \"\"\n      }\n    }\n  ]\n}"
            }
          },
          "metadata": {},
          "execution_count": 89
        }
      ],
      "source": [
        "import pandas as pd\n",
        "import numpy as np\n",
        "df=pd.DataFrame({'X':[6,2,10,4,8,18,11,15,16,3],'Y':[9,11,5,8,7,2,9,5,5,20]})\n",
        "df"
      ]
    },
    {
      "cell_type": "code",
      "source": [
        "x_train=df.loc[:4,['X']]\n",
        "print(x_train)\n",
        "y_train=df.loc[:4,['Y']]\n",
        "y_train=np.array(y_train)\n",
        "y_train=y_train.flatten()\n",
        "print('-----------')\n",
        "print(y_train)"
      ],
      "metadata": {
        "colab": {
          "base_uri": "https://localhost:8080/"
        },
        "id": "gxH9_8jiIJrc",
        "outputId": "094655ab-9c79-4065-fc14-dc909531fe7b"
      },
      "execution_count": 90,
      "outputs": [
        {
          "output_type": "stream",
          "name": "stdout",
          "text": [
            "    X\n",
            "0   6\n",
            "1   2\n",
            "2  10\n",
            "3   4\n",
            "4   8\n",
            "-----------\n",
            "[ 9 11  5  8  7]\n"
          ]
        }
      ]
    },
    {
      "cell_type": "code",
      "source": [
        "x_test=df.loc[5:,['X']]\n",
        "print(x_test)\n",
        "y_test=df.loc[5:,['Y']]\n",
        "y_test=np.array(y_test)\n",
        "y_test=y_test.flatten()\n",
        "print('-----------')\n",
        "print(y_test)"
      ],
      "metadata": {
        "colab": {
          "base_uri": "https://localhost:8080/"
        },
        "id": "W2mS4JvRIoGw",
        "outputId": "143f2a61-e0ca-4f01-fff6-16478c6cf7e5"
      },
      "execution_count": 91,
      "outputs": [
        {
          "output_type": "stream",
          "name": "stdout",
          "text": [
            "    X\n",
            "5  18\n",
            "6  11\n",
            "7  15\n",
            "8  16\n",
            "9   3\n",
            "-----------\n",
            "[ 2  9  5  5 20]\n"
          ]
        }
      ]
    },
    {
      "cell_type": "code",
      "source": [
        "from sklearn.linear_model import LinearRegression\n",
        "model=LinearRegression()\n",
        "model.fit(x_train,y_train)"
      ],
      "metadata": {
        "colab": {
          "base_uri": "https://localhost:8080/",
          "height": 0
        },
        "id": "A07ZJ45TJDmP",
        "outputId": "7198f77a-4184-46a2-b7bc-66ca498986bb"
      },
      "execution_count": 92,
      "outputs": [
        {
          "output_type": "execute_result",
          "data": {
            "text/plain": [
              "LinearRegression()"
            ],
            "text/html": [
              "<style>#sk-container-id-4 {color: black;background-color: white;}#sk-container-id-4 pre{padding: 0;}#sk-container-id-4 div.sk-toggleable {background-color: white;}#sk-container-id-4 label.sk-toggleable__label {cursor: pointer;display: block;width: 100%;margin-bottom: 0;padding: 0.3em;box-sizing: border-box;text-align: center;}#sk-container-id-4 label.sk-toggleable__label-arrow:before {content: \"▸\";float: left;margin-right: 0.25em;color: #696969;}#sk-container-id-4 label.sk-toggleable__label-arrow:hover:before {color: black;}#sk-container-id-4 div.sk-estimator:hover label.sk-toggleable__label-arrow:before {color: black;}#sk-container-id-4 div.sk-toggleable__content {max-height: 0;max-width: 0;overflow: hidden;text-align: left;background-color: #f0f8ff;}#sk-container-id-4 div.sk-toggleable__content pre {margin: 0.2em;color: black;border-radius: 0.25em;background-color: #f0f8ff;}#sk-container-id-4 input.sk-toggleable__control:checked~div.sk-toggleable__content {max-height: 200px;max-width: 100%;overflow: auto;}#sk-container-id-4 input.sk-toggleable__control:checked~label.sk-toggleable__label-arrow:before {content: \"▾\";}#sk-container-id-4 div.sk-estimator input.sk-toggleable__control:checked~label.sk-toggleable__label {background-color: #d4ebff;}#sk-container-id-4 div.sk-label input.sk-toggleable__control:checked~label.sk-toggleable__label {background-color: #d4ebff;}#sk-container-id-4 input.sk-hidden--visually {border: 0;clip: rect(1px 1px 1px 1px);clip: rect(1px, 1px, 1px, 1px);height: 1px;margin: -1px;overflow: hidden;padding: 0;position: absolute;width: 1px;}#sk-container-id-4 div.sk-estimator {font-family: monospace;background-color: #f0f8ff;border: 1px dotted black;border-radius: 0.25em;box-sizing: border-box;margin-bottom: 0.5em;}#sk-container-id-4 div.sk-estimator:hover {background-color: #d4ebff;}#sk-container-id-4 div.sk-parallel-item::after {content: \"\";width: 100%;border-bottom: 1px solid gray;flex-grow: 1;}#sk-container-id-4 div.sk-label:hover label.sk-toggleable__label {background-color: #d4ebff;}#sk-container-id-4 div.sk-serial::before {content: \"\";position: absolute;border-left: 1px solid gray;box-sizing: border-box;top: 0;bottom: 0;left: 50%;z-index: 0;}#sk-container-id-4 div.sk-serial {display: flex;flex-direction: column;align-items: center;background-color: white;padding-right: 0.2em;padding-left: 0.2em;position: relative;}#sk-container-id-4 div.sk-item {position: relative;z-index: 1;}#sk-container-id-4 div.sk-parallel {display: flex;align-items: stretch;justify-content: center;background-color: white;position: relative;}#sk-container-id-4 div.sk-item::before, #sk-container-id-4 div.sk-parallel-item::before {content: \"\";position: absolute;border-left: 1px solid gray;box-sizing: border-box;top: 0;bottom: 0;left: 50%;z-index: -1;}#sk-container-id-4 div.sk-parallel-item {display: flex;flex-direction: column;z-index: 1;position: relative;background-color: white;}#sk-container-id-4 div.sk-parallel-item:first-child::after {align-self: flex-end;width: 50%;}#sk-container-id-4 div.sk-parallel-item:last-child::after {align-self: flex-start;width: 50%;}#sk-container-id-4 div.sk-parallel-item:only-child::after {width: 0;}#sk-container-id-4 div.sk-dashed-wrapped {border: 1px dashed gray;margin: 0 0.4em 0.5em 0.4em;box-sizing: border-box;padding-bottom: 0.4em;background-color: white;}#sk-container-id-4 div.sk-label label {font-family: monospace;font-weight: bold;display: inline-block;line-height: 1.2em;}#sk-container-id-4 div.sk-label-container {text-align: center;}#sk-container-id-4 div.sk-container {/* jupyter's `normalize.less` sets `[hidden] { display: none; }` but bootstrap.min.css set `[hidden] { display: none !important; }` so we also need the `!important` here to be able to override the default hidden behavior on the sphinx rendered scikit-learn.org. See: https://github.com/scikit-learn/scikit-learn/issues/21755 */display: inline-block !important;position: relative;}#sk-container-id-4 div.sk-text-repr-fallback {display: none;}</style><div id=\"sk-container-id-4\" class=\"sk-top-container\"><div class=\"sk-text-repr-fallback\"><pre>LinearRegression()</pre><b>In a Jupyter environment, please rerun this cell to show the HTML representation or trust the notebook. <br />On GitHub, the HTML representation is unable to render, please try loading this page with nbviewer.org.</b></div><div class=\"sk-container\" hidden><div class=\"sk-item\"><div class=\"sk-estimator sk-toggleable\"><input class=\"sk-toggleable__control sk-hidden--visually\" id=\"sk-estimator-id-4\" type=\"checkbox\" checked><label for=\"sk-estimator-id-4\" class=\"sk-toggleable__label sk-toggleable__label-arrow\">LinearRegression</label><div class=\"sk-toggleable__content\"><pre>LinearRegression()</pre></div></div></div></div></div>"
            ]
          },
          "metadata": {},
          "execution_count": 92
        }
      ]
    },
    {
      "cell_type": "code",
      "source": [
        "model.intercept_   #intercept"
      ],
      "metadata": {
        "colab": {
          "base_uri": "https://localhost:8080/"
        },
        "id": "GXlESn-OK0Z6",
        "outputId": "e06f6f29-e0c2-4b8b-f02c-0921ad4555ec"
      },
      "execution_count": 93,
      "outputs": [
        {
          "output_type": "execute_result",
          "data": {
            "text/plain": [
              "11.9"
            ]
          },
          "metadata": {},
          "execution_count": 93
        }
      ]
    },
    {
      "cell_type": "code",
      "source": [
        "model.coef_   #slope"
      ],
      "metadata": {
        "colab": {
          "base_uri": "https://localhost:8080/"
        },
        "id": "PGhg4OpCLksR",
        "outputId": "bdbcc6e0-d245-4a1d-fb4a-dd6fa7ca62ce"
      },
      "execution_count": 94,
      "outputs": [
        {
          "output_type": "execute_result",
          "data": {
            "text/plain": [
              "array([-0.65])"
            ]
          },
          "metadata": {},
          "execution_count": 94
        }
      ]
    },
    {
      "cell_type": "code",
      "source": [
        "from sklearn.metrics import r2_score,mean_squared_error,mean_absolute_error\n",
        "y_pred=model.predict(x_test)\n",
        "mae=mean_absolute_error(y_test,y_pred)\n",
        "r2=r2_score(y_test,y_pred)\n",
        "rmse=np.sqrt(mean_squared_error(y_test,y_pred))\n",
        "print('Mean Absolute Error: ',mae)\n",
        "print('R2 Score: ',r2)\n",
        "print('Root Mean Squared Error: ',rmse)"
      ],
      "metadata": {
        "colab": {
          "base_uri": "https://localhost:8080/"
        },
        "id": "OVPPW0dULzSi",
        "outputId": "6d08f419-c940-4ff6-f983-1b090104e9aa"
      },
      "execution_count": 95,
      "outputs": [
        {
          "output_type": "stream",
          "name": "stdout",
          "text": [
            "Mean Absolute Error:  4.49\n",
            "R2 Score:  0.28230633802816896\n",
            "Root Mean Squared Error:  5.341862970911928\n"
          ]
        }
      ]
    },
    {
      "cell_type": "code",
      "source": [
        "model.predict([[20]])"
      ],
      "metadata": {
        "colab": {
          "base_uri": "https://localhost:8080/"
        },
        "id": "ABIPRIsOMI5R",
        "outputId": "b5e67e8d-c820-419d-cebb-998485518412"
      },
      "execution_count": 96,
      "outputs": [
        {
          "output_type": "stream",
          "name": "stderr",
          "text": [
            "/usr/local/lib/python3.10/dist-packages/sklearn/base.py:439: UserWarning: X does not have valid feature names, but LinearRegression was fitted with feature names\n",
            "  warnings.warn(\n"
          ]
        },
        {
          "output_type": "execute_result",
          "data": {
            "text/plain": [
              "array([-1.1])"
            ]
          },
          "metadata": {},
          "execution_count": 96
        }
      ]
    },
    {
      "cell_type": "markdown",
      "source": [
        "#MULTI LINEAR REGRESSION"
      ],
      "metadata": {
        "id": "xFxlBK7xOs3M"
      }
    },
    {
      "cell_type": "code",
      "source": [
        "from sklearn import datasets\n",
        "dia_x,dia_y=datasets.load_diabetes(return_X_y=True)\n",
        "print(dia_x.shape)\n",
        "print(dia_y.shape)"
      ],
      "metadata": {
        "id": "w_nWJPLKOUN4",
        "colab": {
          "base_uri": "https://localhost:8080/"
        },
        "outputId": "ab40a541-ae9c-4ab0-f478-9005e1f4b1e9"
      },
      "execution_count": 97,
      "outputs": [
        {
          "output_type": "stream",
          "name": "stdout",
          "text": [
            "(442, 10)\n",
            "(442,)\n"
          ]
        }
      ]
    },
    {
      "cell_type": "code",
      "source": [
        "from sklearn.model_selection import train_test_split\n",
        "di_x_train,di_x_test,di_y_train,di_y_test=train_test_split(dia_x,dia_y,test_size=0.3,random_state=2)"
      ],
      "metadata": {
        "id": "BAVQZeU7P4Vk"
      },
      "execution_count": 98,
      "outputs": []
    },
    {
      "cell_type": "code",
      "source": [
        "model.fit(di_x_train,di_y_train)\n",
        "print('Intercept: ',model.intercept_)\n",
        "print('Coefficients: ',model.coef_)"
      ],
      "metadata": {
        "colab": {
          "base_uri": "https://localhost:8080/"
        },
        "id": "FryaUQysQMbC",
        "outputId": "73850f1d-5dfd-4569-838b-4ba53778a8c5"
      },
      "execution_count": 99,
      "outputs": [
        {
          "output_type": "stream",
          "name": "stdout",
          "text": [
            "Intercept:  152.6275795791894\n",
            "Coefficients:  [ -31.80406415 -214.66452697  445.14791885  376.34786891 -802.50380919\n",
            "  525.99207358  106.4287134   172.3171033   799.50335529   57.1646797 ]\n"
          ]
        }
      ]
    },
    {
      "cell_type": "code",
      "source": [
        "di_y_pred=model.predict(di_x_test)\n",
        "di_mae=mean_absolute_error(di_y_test,di_y_pred)\n",
        "di_rmse=np.sqrt(mean_squared_error(di_y_test,di_y_pred))\n",
        "di_r2=r2_score(di_y_test,di_y_pred)\n",
        "print('Mean Absolute Error: ',di_mae)\n",
        "print('Root Mean Squared Error: ',di_rmse)\n",
        "print('R2 Score: ',di_r2)"
      ],
      "metadata": {
        "colab": {
          "base_uri": "https://localhost:8080/"
        },
        "id": "XFXlOU0TQfnf",
        "outputId": "69e72cf8-d966-486b-b659-12d6f4ba2be6"
      },
      "execution_count": 100,
      "outputs": [
        {
          "output_type": "stream",
          "name": "stdout",
          "text": [
            "Mean Absolute Error:  44.199315876914966\n",
            "Root Mean Squared Error:  54.034950681329846\n",
            "R2 Score:  0.5012577617513011\n"
          ]
        }
      ]
    },
    {
      "cell_type": "markdown",
      "source": [
        "#SVR"
      ],
      "metadata": {
        "id": "dj-YRJUsUC11"
      }
    },
    {
      "cell_type": "code",
      "source": [
        "from sklearn.svm import SVR\n",
        "svr=SVR()\n",
        "svr.fit(di_x_train,di_y_train)\n",
        "pre=svr.predict(di_x_test)\n",
        "mae1=mean_absolute_error(di_y_test,pre)\n",
        "rmse1=np.sqrt(mean_squared_error(di_y_test,pre))\n",
        "r21=r2_score(di_y_test,pre)\n",
        "print('Mean Absolute Error: ',mae1)\n",
        "print('Root Mean Squared Error: ',rmse1)\n",
        "print('R2 Score: ',r21)"
      ],
      "metadata": {
        "colab": {
          "base_uri": "https://localhost:8080/"
        },
        "id": "4id5P6OzR9ch",
        "outputId": "5422a3ca-b935-49ad-de82-728cf5db2842"
      },
      "execution_count": 101,
      "outputs": [
        {
          "output_type": "stream",
          "name": "stdout",
          "text": [
            "Mean Absolute Error:  59.77965957843949\n",
            "Root Mean Squared Error:  71.76999530758795\n",
            "R2 Score:  0.1201422438039742\n"
          ]
        }
      ]
    },
    {
      "cell_type": "markdown",
      "source": [
        "#KNN"
      ],
      "metadata": {
        "id": "FtrLBMtzUkVH"
      }
    },
    {
      "cell_type": "code",
      "source": [
        "from sklearn.neighbors import KNeighborsRegressor\n",
        "knn=KNeighborsRegressor(n_neighbors=3)\n",
        "knn.fit(di_x_train,di_y_train)\n",
        "pred=knn.predict(di_x_test)\n",
        "mae3=mean_absolute_error(di_y_test,pred)\n",
        "rmse3=np.sqrt(mean_squared_error(di_y_test,pred))\n",
        "r3=r2_score(di_y_test,pred)\n",
        "print('Mean Absolute Error: ',mae3)\n",
        "print('Root Mean Squared Error: ',rmse3)\n",
        "print('R2 Score: ',r3)"
      ],
      "metadata": {
        "colab": {
          "base_uri": "https://localhost:8080/"
        },
        "id": "bYQcc-BFUgez",
        "outputId": "b76b395f-b1c1-4434-9d88-1c3d62e8a721"
      },
      "execution_count": 102,
      "outputs": [
        {
          "output_type": "stream",
          "name": "stdout",
          "text": [
            "Mean Absolute Error:  52.03508771929825\n",
            "Root Mean Squared Error:  67.16260396800246\n",
            "R2 Score:  0.2294839619064224\n"
          ]
        }
      ]
    },
    {
      "cell_type": "code",
      "source": [
        "from sklearn.neighbors import KNeighborsRegressor\n",
        "knn=KNeighborsRegressor(n_neighbors=7)\n",
        "knn.fit(di_x_train,di_y_train)\n",
        "pred1=knn.predict(di_x_test)\n",
        "mae7=mean_absolute_error(di_y_test,pred1)\n",
        "rmse7=np.sqrt(mean_squared_error(di_y_test,pred1))\n",
        "r7=r2_score(di_y_test,pred1)\n",
        "print('Mean Absolute Error: ',mae7)\n",
        "print('Root Mean Squared Error: ',rmse7)\n",
        "print('R2 Score: ',r7)"
      ],
      "metadata": {
        "colab": {
          "base_uri": "https://localhost:8080/"
        },
        "id": "XZtHnYcOVnSg",
        "outputId": "5d507193-1540-43c2-c410-f738e4efaa84"
      },
      "execution_count": 103,
      "outputs": [
        {
          "output_type": "stream",
          "name": "stdout",
          "text": [
            "Mean Absolute Error:  50.21911922663803\n",
            "Root Mean Squared Error:  62.65140384838714\n",
            "R2 Score:  0.3295162683784897\n"
          ]
        }
      ]
    },
    {
      "cell_type": "markdown",
      "source": [
        "# EG:- HOUSE PRICE\n"
      ],
      "metadata": {
        "id": "zk4ka9ssBx59"
      }
    },
    {
      "cell_type": "code",
      "source": [
        "house=pd.read_csv('/content/house_price.csv')\n",
        "house"
      ],
      "metadata": {
        "colab": {
          "base_uri": "https://localhost:8080/",
          "height": 424
        },
        "id": "7itD-apjD-J9",
        "outputId": "b012273c-6459-4672-eec9-892bdc81418c"
      },
      "execution_count": 104,
      "outputs": [
        {
          "output_type": "execute_result",
          "data": {
            "text/plain": [
              "               Transaction date  House age  \\\n",
              "0    2012-09-02 16:42:30.519336       13.3   \n",
              "1    2012-09-04 22:52:29.919544       35.5   \n",
              "2    2012-09-05 01:10:52.349449        1.1   \n",
              "3    2012-09-05 13:26:01.189083       22.2   \n",
              "4    2012-09-06 08:29:47.910523        8.5   \n",
              "..                          ...        ...   \n",
              "409  2013-07-25 15:30:36.565239       18.3   \n",
              "410  2013-07-26 17:16:34.019780       11.9   \n",
              "411  2013-07-28 21:47:23.339050        0.0   \n",
              "412  2013-07-29 13:33:29.405317       35.9   \n",
              "413  2013-08-01 09:49:41.506402       12.0   \n",
              "\n",
              "     Distance to the nearest MRT station  Number of convenience stores  \\\n",
              "0                             4082.01500                             8   \n",
              "1                              274.01440                             2   \n",
              "2                             1978.67100                            10   \n",
              "3                             1055.06700                             5   \n",
              "4                              967.40000                             6   \n",
              "..                                   ...                           ...   \n",
              "409                            170.12890                             6   \n",
              "410                            323.69120                             2   \n",
              "411                            451.64190                             8   \n",
              "412                            292.99780                             5   \n",
              "413                             90.45606                             6   \n",
              "\n",
              "      Latitude   Longitude  House price of unit area  \n",
              "0    25.007059  121.561694                  6.488673  \n",
              "1    25.012148  121.546990                 24.970725  \n",
              "2    25.003850  121.528336                 26.694267  \n",
              "3    24.962887  121.482178                 38.091638  \n",
              "4    25.011037  121.479946                 21.654710  \n",
              "..         ...         ...                       ...  \n",
              "409  24.981186  121.486798                 29.096310  \n",
              "410  24.950070  121.483918                 33.871347  \n",
              "411  24.963901  121.543387                 25.255105  \n",
              "412  24.997863  121.558286                 25.285620  \n",
              "413  24.952904  121.526395                 37.580554  \n",
              "\n",
              "[414 rows x 7 columns]"
            ],
            "text/html": [
              "\n",
              "  <div id=\"df-e95e68ce-827f-4126-830b-e7834ba2ed74\" class=\"colab-df-container\">\n",
              "    <div>\n",
              "<style scoped>\n",
              "    .dataframe tbody tr th:only-of-type {\n",
              "        vertical-align: middle;\n",
              "    }\n",
              "\n",
              "    .dataframe tbody tr th {\n",
              "        vertical-align: top;\n",
              "    }\n",
              "\n",
              "    .dataframe thead th {\n",
              "        text-align: right;\n",
              "    }\n",
              "</style>\n",
              "<table border=\"1\" class=\"dataframe\">\n",
              "  <thead>\n",
              "    <tr style=\"text-align: right;\">\n",
              "      <th></th>\n",
              "      <th>Transaction date</th>\n",
              "      <th>House age</th>\n",
              "      <th>Distance to the nearest MRT station</th>\n",
              "      <th>Number of convenience stores</th>\n",
              "      <th>Latitude</th>\n",
              "      <th>Longitude</th>\n",
              "      <th>House price of unit area</th>\n",
              "    </tr>\n",
              "  </thead>\n",
              "  <tbody>\n",
              "    <tr>\n",
              "      <th>0</th>\n",
              "      <td>2012-09-02 16:42:30.519336</td>\n",
              "      <td>13.3</td>\n",
              "      <td>4082.01500</td>\n",
              "      <td>8</td>\n",
              "      <td>25.007059</td>\n",
              "      <td>121.561694</td>\n",
              "      <td>6.488673</td>\n",
              "    </tr>\n",
              "    <tr>\n",
              "      <th>1</th>\n",
              "      <td>2012-09-04 22:52:29.919544</td>\n",
              "      <td>35.5</td>\n",
              "      <td>274.01440</td>\n",
              "      <td>2</td>\n",
              "      <td>25.012148</td>\n",
              "      <td>121.546990</td>\n",
              "      <td>24.970725</td>\n",
              "    </tr>\n",
              "    <tr>\n",
              "      <th>2</th>\n",
              "      <td>2012-09-05 01:10:52.349449</td>\n",
              "      <td>1.1</td>\n",
              "      <td>1978.67100</td>\n",
              "      <td>10</td>\n",
              "      <td>25.003850</td>\n",
              "      <td>121.528336</td>\n",
              "      <td>26.694267</td>\n",
              "    </tr>\n",
              "    <tr>\n",
              "      <th>3</th>\n",
              "      <td>2012-09-05 13:26:01.189083</td>\n",
              "      <td>22.2</td>\n",
              "      <td>1055.06700</td>\n",
              "      <td>5</td>\n",
              "      <td>24.962887</td>\n",
              "      <td>121.482178</td>\n",
              "      <td>38.091638</td>\n",
              "    </tr>\n",
              "    <tr>\n",
              "      <th>4</th>\n",
              "      <td>2012-09-06 08:29:47.910523</td>\n",
              "      <td>8.5</td>\n",
              "      <td>967.40000</td>\n",
              "      <td>6</td>\n",
              "      <td>25.011037</td>\n",
              "      <td>121.479946</td>\n",
              "      <td>21.654710</td>\n",
              "    </tr>\n",
              "    <tr>\n",
              "      <th>...</th>\n",
              "      <td>...</td>\n",
              "      <td>...</td>\n",
              "      <td>...</td>\n",
              "      <td>...</td>\n",
              "      <td>...</td>\n",
              "      <td>...</td>\n",
              "      <td>...</td>\n",
              "    </tr>\n",
              "    <tr>\n",
              "      <th>409</th>\n",
              "      <td>2013-07-25 15:30:36.565239</td>\n",
              "      <td>18.3</td>\n",
              "      <td>170.12890</td>\n",
              "      <td>6</td>\n",
              "      <td>24.981186</td>\n",
              "      <td>121.486798</td>\n",
              "      <td>29.096310</td>\n",
              "    </tr>\n",
              "    <tr>\n",
              "      <th>410</th>\n",
              "      <td>2013-07-26 17:16:34.019780</td>\n",
              "      <td>11.9</td>\n",
              "      <td>323.69120</td>\n",
              "      <td>2</td>\n",
              "      <td>24.950070</td>\n",
              "      <td>121.483918</td>\n",
              "      <td>33.871347</td>\n",
              "    </tr>\n",
              "    <tr>\n",
              "      <th>411</th>\n",
              "      <td>2013-07-28 21:47:23.339050</td>\n",
              "      <td>0.0</td>\n",
              "      <td>451.64190</td>\n",
              "      <td>8</td>\n",
              "      <td>24.963901</td>\n",
              "      <td>121.543387</td>\n",
              "      <td>25.255105</td>\n",
              "    </tr>\n",
              "    <tr>\n",
              "      <th>412</th>\n",
              "      <td>2013-07-29 13:33:29.405317</td>\n",
              "      <td>35.9</td>\n",
              "      <td>292.99780</td>\n",
              "      <td>5</td>\n",
              "      <td>24.997863</td>\n",
              "      <td>121.558286</td>\n",
              "      <td>25.285620</td>\n",
              "    </tr>\n",
              "    <tr>\n",
              "      <th>413</th>\n",
              "      <td>2013-08-01 09:49:41.506402</td>\n",
              "      <td>12.0</td>\n",
              "      <td>90.45606</td>\n",
              "      <td>6</td>\n",
              "      <td>24.952904</td>\n",
              "      <td>121.526395</td>\n",
              "      <td>37.580554</td>\n",
              "    </tr>\n",
              "  </tbody>\n",
              "</table>\n",
              "<p>414 rows × 7 columns</p>\n",
              "</div>\n",
              "    <div class=\"colab-df-buttons\">\n",
              "\n",
              "  <div class=\"colab-df-container\">\n",
              "    <button class=\"colab-df-convert\" onclick=\"convertToInteractive('df-e95e68ce-827f-4126-830b-e7834ba2ed74')\"\n",
              "            title=\"Convert this dataframe to an interactive table.\"\n",
              "            style=\"display:none;\">\n",
              "\n",
              "  <svg xmlns=\"http://www.w3.org/2000/svg\" height=\"24px\" viewBox=\"0 -960 960 960\">\n",
              "    <path d=\"M120-120v-720h720v720H120Zm60-500h600v-160H180v160Zm220 220h160v-160H400v160Zm0 220h160v-160H400v160ZM180-400h160v-160H180v160Zm440 0h160v-160H620v160ZM180-180h160v-160H180v160Zm440 0h160v-160H620v160Z\"/>\n",
              "  </svg>\n",
              "    </button>\n",
              "\n",
              "  <style>\n",
              "    .colab-df-container {\n",
              "      display:flex;\n",
              "      gap: 12px;\n",
              "    }\n",
              "\n",
              "    .colab-df-convert {\n",
              "      background-color: #E8F0FE;\n",
              "      border: none;\n",
              "      border-radius: 50%;\n",
              "      cursor: pointer;\n",
              "      display: none;\n",
              "      fill: #1967D2;\n",
              "      height: 32px;\n",
              "      padding: 0 0 0 0;\n",
              "      width: 32px;\n",
              "    }\n",
              "\n",
              "    .colab-df-convert:hover {\n",
              "      background-color: #E2EBFA;\n",
              "      box-shadow: 0px 1px 2px rgba(60, 64, 67, 0.3), 0px 1px 3px 1px rgba(60, 64, 67, 0.15);\n",
              "      fill: #174EA6;\n",
              "    }\n",
              "\n",
              "    .colab-df-buttons div {\n",
              "      margin-bottom: 4px;\n",
              "    }\n",
              "\n",
              "    [theme=dark] .colab-df-convert {\n",
              "      background-color: #3B4455;\n",
              "      fill: #D2E3FC;\n",
              "    }\n",
              "\n",
              "    [theme=dark] .colab-df-convert:hover {\n",
              "      background-color: #434B5C;\n",
              "      box-shadow: 0px 1px 3px 1px rgba(0, 0, 0, 0.15);\n",
              "      filter: drop-shadow(0px 1px 2px rgba(0, 0, 0, 0.3));\n",
              "      fill: #FFFFFF;\n",
              "    }\n",
              "  </style>\n",
              "\n",
              "    <script>\n",
              "      const buttonEl =\n",
              "        document.querySelector('#df-e95e68ce-827f-4126-830b-e7834ba2ed74 button.colab-df-convert');\n",
              "      buttonEl.style.display =\n",
              "        google.colab.kernel.accessAllowed ? 'block' : 'none';\n",
              "\n",
              "      async function convertToInteractive(key) {\n",
              "        const element = document.querySelector('#df-e95e68ce-827f-4126-830b-e7834ba2ed74');\n",
              "        const dataTable =\n",
              "          await google.colab.kernel.invokeFunction('convertToInteractive',\n",
              "                                                    [key], {});\n",
              "        if (!dataTable) return;\n",
              "\n",
              "        const docLinkHtml = 'Like what you see? Visit the ' +\n",
              "          '<a target=\"_blank\" href=https://colab.research.google.com/notebooks/data_table.ipynb>data table notebook</a>'\n",
              "          + ' to learn more about interactive tables.';\n",
              "        element.innerHTML = '';\n",
              "        dataTable['output_type'] = 'display_data';\n",
              "        await google.colab.output.renderOutput(dataTable, element);\n",
              "        const docLink = document.createElement('div');\n",
              "        docLink.innerHTML = docLinkHtml;\n",
              "        element.appendChild(docLink);\n",
              "      }\n",
              "    </script>\n",
              "  </div>\n",
              "\n",
              "\n",
              "<div id=\"df-069e918e-e290-4b10-9ccf-0390fbc7b196\">\n",
              "  <button class=\"colab-df-quickchart\" onclick=\"quickchart('df-069e918e-e290-4b10-9ccf-0390fbc7b196')\"\n",
              "            title=\"Suggest charts\"\n",
              "            style=\"display:none;\">\n",
              "\n",
              "<svg xmlns=\"http://www.w3.org/2000/svg\" height=\"24px\"viewBox=\"0 0 24 24\"\n",
              "     width=\"24px\">\n",
              "    <g>\n",
              "        <path d=\"M19 3H5c-1.1 0-2 .9-2 2v14c0 1.1.9 2 2 2h14c1.1 0 2-.9 2-2V5c0-1.1-.9-2-2-2zM9 17H7v-7h2v7zm4 0h-2V7h2v10zm4 0h-2v-4h2v4z\"/>\n",
              "    </g>\n",
              "</svg>\n",
              "  </button>\n",
              "\n",
              "<style>\n",
              "  .colab-df-quickchart {\n",
              "      --bg-color: #E8F0FE;\n",
              "      --fill-color: #1967D2;\n",
              "      --hover-bg-color: #E2EBFA;\n",
              "      --hover-fill-color: #174EA6;\n",
              "      --disabled-fill-color: #AAA;\n",
              "      --disabled-bg-color: #DDD;\n",
              "  }\n",
              "\n",
              "  [theme=dark] .colab-df-quickchart {\n",
              "      --bg-color: #3B4455;\n",
              "      --fill-color: #D2E3FC;\n",
              "      --hover-bg-color: #434B5C;\n",
              "      --hover-fill-color: #FFFFFF;\n",
              "      --disabled-bg-color: #3B4455;\n",
              "      --disabled-fill-color: #666;\n",
              "  }\n",
              "\n",
              "  .colab-df-quickchart {\n",
              "    background-color: var(--bg-color);\n",
              "    border: none;\n",
              "    border-radius: 50%;\n",
              "    cursor: pointer;\n",
              "    display: none;\n",
              "    fill: var(--fill-color);\n",
              "    height: 32px;\n",
              "    padding: 0;\n",
              "    width: 32px;\n",
              "  }\n",
              "\n",
              "  .colab-df-quickchart:hover {\n",
              "    background-color: var(--hover-bg-color);\n",
              "    box-shadow: 0 1px 2px rgba(60, 64, 67, 0.3), 0 1px 3px 1px rgba(60, 64, 67, 0.15);\n",
              "    fill: var(--button-hover-fill-color);\n",
              "  }\n",
              "\n",
              "  .colab-df-quickchart-complete:disabled,\n",
              "  .colab-df-quickchart-complete:disabled:hover {\n",
              "    background-color: var(--disabled-bg-color);\n",
              "    fill: var(--disabled-fill-color);\n",
              "    box-shadow: none;\n",
              "  }\n",
              "\n",
              "  .colab-df-spinner {\n",
              "    border: 2px solid var(--fill-color);\n",
              "    border-color: transparent;\n",
              "    border-bottom-color: var(--fill-color);\n",
              "    animation:\n",
              "      spin 1s steps(1) infinite;\n",
              "  }\n",
              "\n",
              "  @keyframes spin {\n",
              "    0% {\n",
              "      border-color: transparent;\n",
              "      border-bottom-color: var(--fill-color);\n",
              "      border-left-color: var(--fill-color);\n",
              "    }\n",
              "    20% {\n",
              "      border-color: transparent;\n",
              "      border-left-color: var(--fill-color);\n",
              "      border-top-color: var(--fill-color);\n",
              "    }\n",
              "    30% {\n",
              "      border-color: transparent;\n",
              "      border-left-color: var(--fill-color);\n",
              "      border-top-color: var(--fill-color);\n",
              "      border-right-color: var(--fill-color);\n",
              "    }\n",
              "    40% {\n",
              "      border-color: transparent;\n",
              "      border-right-color: var(--fill-color);\n",
              "      border-top-color: var(--fill-color);\n",
              "    }\n",
              "    60% {\n",
              "      border-color: transparent;\n",
              "      border-right-color: var(--fill-color);\n",
              "    }\n",
              "    80% {\n",
              "      border-color: transparent;\n",
              "      border-right-color: var(--fill-color);\n",
              "      border-bottom-color: var(--fill-color);\n",
              "    }\n",
              "    90% {\n",
              "      border-color: transparent;\n",
              "      border-bottom-color: var(--fill-color);\n",
              "    }\n",
              "  }\n",
              "</style>\n",
              "\n",
              "  <script>\n",
              "    async function quickchart(key) {\n",
              "      const quickchartButtonEl =\n",
              "        document.querySelector('#' + key + ' button');\n",
              "      quickchartButtonEl.disabled = true;  // To prevent multiple clicks.\n",
              "      quickchartButtonEl.classList.add('colab-df-spinner');\n",
              "      try {\n",
              "        const charts = await google.colab.kernel.invokeFunction(\n",
              "            'suggestCharts', [key], {});\n",
              "      } catch (error) {\n",
              "        console.error('Error during call to suggestCharts:', error);\n",
              "      }\n",
              "      quickchartButtonEl.classList.remove('colab-df-spinner');\n",
              "      quickchartButtonEl.classList.add('colab-df-quickchart-complete');\n",
              "    }\n",
              "    (() => {\n",
              "      let quickchartButtonEl =\n",
              "        document.querySelector('#df-069e918e-e290-4b10-9ccf-0390fbc7b196 button');\n",
              "      quickchartButtonEl.style.display =\n",
              "        google.colab.kernel.accessAllowed ? 'block' : 'none';\n",
              "    })();\n",
              "  </script>\n",
              "</div>\n",
              "\n",
              "  <div id=\"id_1695b9ac-ed95-4c55-a4c4-78b981436209\">\n",
              "    <style>\n",
              "      .colab-df-generate {\n",
              "        background-color: #E8F0FE;\n",
              "        border: none;\n",
              "        border-radius: 50%;\n",
              "        cursor: pointer;\n",
              "        display: none;\n",
              "        fill: #1967D2;\n",
              "        height: 32px;\n",
              "        padding: 0 0 0 0;\n",
              "        width: 32px;\n",
              "      }\n",
              "\n",
              "      .colab-df-generate:hover {\n",
              "        background-color: #E2EBFA;\n",
              "        box-shadow: 0px 1px 2px rgba(60, 64, 67, 0.3), 0px 1px 3px 1px rgba(60, 64, 67, 0.15);\n",
              "        fill: #174EA6;\n",
              "      }\n",
              "\n",
              "      [theme=dark] .colab-df-generate {\n",
              "        background-color: #3B4455;\n",
              "        fill: #D2E3FC;\n",
              "      }\n",
              "\n",
              "      [theme=dark] .colab-df-generate:hover {\n",
              "        background-color: #434B5C;\n",
              "        box-shadow: 0px 1px 3px 1px rgba(0, 0, 0, 0.15);\n",
              "        filter: drop-shadow(0px 1px 2px rgba(0, 0, 0, 0.3));\n",
              "        fill: #FFFFFF;\n",
              "      }\n",
              "    </style>\n",
              "    <button class=\"colab-df-generate\" onclick=\"generateWithVariable('house')\"\n",
              "            title=\"Generate code using this dataframe.\"\n",
              "            style=\"display:none;\">\n",
              "\n",
              "  <svg xmlns=\"http://www.w3.org/2000/svg\" height=\"24px\"viewBox=\"0 0 24 24\"\n",
              "       width=\"24px\">\n",
              "    <path d=\"M7,19H8.4L18.45,9,17,7.55,7,17.6ZM5,21V16.75L18.45,3.32a2,2,0,0,1,2.83,0l1.4,1.43a1.91,1.91,0,0,1,.58,1.4,1.91,1.91,0,0,1-.58,1.4L9.25,21ZM18.45,9,17,7.55Zm-12,3A5.31,5.31,0,0,0,4.9,8.1,5.31,5.31,0,0,0,1,6.5,5.31,5.31,0,0,0,4.9,4.9,5.31,5.31,0,0,0,6.5,1,5.31,5.31,0,0,0,8.1,4.9,5.31,5.31,0,0,0,12,6.5,5.46,5.46,0,0,0,6.5,12Z\"/>\n",
              "  </svg>\n",
              "    </button>\n",
              "    <script>\n",
              "      (() => {\n",
              "      const buttonEl =\n",
              "        document.querySelector('#id_1695b9ac-ed95-4c55-a4c4-78b981436209 button.colab-df-generate');\n",
              "      buttonEl.style.display =\n",
              "        google.colab.kernel.accessAllowed ? 'block' : 'none';\n",
              "\n",
              "      buttonEl.onclick = () => {\n",
              "        google.colab.notebook.generateWithVariable('house');\n",
              "      }\n",
              "      })();\n",
              "    </script>\n",
              "  </div>\n",
              "\n",
              "    </div>\n",
              "  </div>\n"
            ],
            "application/vnd.google.colaboratory.intrinsic+json": {
              "type": "dataframe",
              "variable_name": "house",
              "summary": "{\n  \"name\": \"house\",\n  \"rows\": 414,\n  \"fields\": [\n    {\n      \"column\": \"Transaction date\",\n      \"properties\": {\n        \"dtype\": \"object\",\n        \"num_unique_values\": 414,\n        \"samples\": [\n          \"2013-06-18 16:54:08.584175\",\n          \"2013-06-12 06:58:44.107680\",\n          \"2013-06-30 17:07:00.680666\"\n        ],\n        \"semantic_type\": \"\",\n        \"description\": \"\"\n      }\n    },\n    {\n      \"column\": \"House age\",\n      \"properties\": {\n        \"dtype\": \"number\",\n        \"std\": 11.757670140703617,\n        \"min\": 0.0,\n        \"max\": 42.7,\n        \"num_unique_values\": 178,\n        \"samples\": [\n          31.3,\n          32.3,\n          28.6\n        ],\n        \"semantic_type\": \"\",\n        \"description\": \"\"\n      }\n    },\n    {\n      \"column\": \"Distance to the nearest MRT station\",\n      \"properties\": {\n        \"dtype\": \"number\",\n        \"std\": 1196.749384585172,\n        \"min\": 23.38284,\n        \"max\": 6306.153,\n        \"num_unique_values\": 183,\n        \"samples\": [\n          193.5845,\n          488.5727,\n          587.8877\n        ],\n        \"semantic_type\": \"\",\n        \"description\": \"\"\n      }\n    },\n    {\n      \"column\": \"Number of convenience stores\",\n      \"properties\": {\n        \"dtype\": \"number\",\n        \"std\": 2,\n        \"min\": 0,\n        \"max\": 10,\n        \"num_unique_values\": 11,\n        \"samples\": [\n          3,\n          8,\n          1\n        ],\n        \"semantic_type\": \"\",\n        \"description\": \"\"\n      }\n    },\n    {\n      \"column\": \"Latitude\",\n      \"properties\": {\n        \"dtype\": \"number\",\n        \"std\": 0.024178388020834423,\n        \"min\": 24.9320749981209,\n        \"max\": 25.0145779378903,\n        \"num_unique_values\": 414,\n        \"samples\": [\n          24.9888098684987,\n          24.9538013548986,\n          25.0080335865763\n        ],\n        \"semantic_type\": \"\",\n        \"description\": \"\"\n      }\n    },\n    {\n      \"column\": \"Longitude\",\n      \"properties\": {\n        \"dtype\": \"number\",\n        \"std\": 0.026988940638188776,\n        \"min\": 121.473887978837,\n        \"max\": 121.565320793587,\n        \"num_unique_values\": 414,\n        \"samples\": [\n          121.562201462995,\n          121.565320793587,\n          121.556559417032\n        ],\n        \"semantic_type\": \"\",\n        \"description\": \"\"\n      }\n    },\n    {\n      \"column\": \"House price of unit area\",\n      \"properties\": {\n        \"dtype\": \"number\",\n        \"std\": 15.750935044084173,\n        \"min\": 0.0,\n        \"max\": 65.571716063673,\n        \"num_unique_values\": 384,\n        \"samples\": [\n          44.2954449888735,\n          29.8950977756843,\n          27.6783525226046\n        ],\n        \"semantic_type\": \"\",\n        \"description\": \"\"\n      }\n    }\n  ]\n}"
            }
          },
          "metadata": {},
          "execution_count": 104
        }
      ]
    },
    {
      "cell_type": "code",
      "source": [
        "hx=house.drop(['House price of unit area'],axis=1)\n",
        "hy=house['House price of unit area']"
      ],
      "metadata": {
        "id": "x5Y_BRgRF4of"
      },
      "execution_count": 105,
      "outputs": []
    },
    {
      "cell_type": "code",
      "source": [
        "from sklearn.model_selection import train_test_split\n",
        "hx_train,hx_test,hy_train,hy_test=train_test_split(hx,hy,test_size=0.3,random_state=2)"
      ],
      "metadata": {
        "id": "lmvC97LYE3O9"
      },
      "execution_count": 106,
      "outputs": []
    },
    {
      "cell_type": "code",
      "source": [
        "from sklearn.preprocessing import LabelEncoder\n",
        "le=LabelEncoder()\n",
        "all_dates = pd.concat([hx_train['Transaction date'], hx_test['Transaction date']]).astype(str)\n",
        "le.fit(all_dates)\n",
        "hx_train['Transaction date'] = le.transform(hx_train['Transaction date'].astype(str))\n",
        "hx_test['Transaction date'] = le.transform(hx_test['Transaction date'].astype(str))"
      ],
      "metadata": {
        "id": "uppzW3xHGnP0"
      },
      "execution_count": 107,
      "outputs": []
    },
    {
      "cell_type": "code",
      "source": [
        "model.fit(hx_train,hy_train)\n",
        "print('Intercept: ',model.intercept_)\n",
        "print('Coefficients: ',model.coef_)"
      ],
      "metadata": {
        "colab": {
          "base_uri": "https://localhost:8080/"
        },
        "id": "PPoYYZ3TGWqU",
        "outputId": "44a26a3a-2937-40f6-beff-2173c9229025"
      },
      "execution_count": 108,
      "outputs": [
        {
          "output_type": "stream",
          "name": "stdout",
          "text": [
            "Intercept:  2077.6438180653186\n",
            "Coefficients:  [ 6.39002491e-03 -1.01639821e-03 -8.76448803e-03  1.84255923e+00\n",
            "  7.81008845e+01 -3.29085472e+01]\n"
          ]
        }
      ]
    },
    {
      "cell_type": "code",
      "source": [
        "hy_pred=model.predict(hx_test)\n",
        "h_mae=mean_absolute_error(hy_test,hy_pred)\n",
        "h_rmse=np.sqrt(mean_squared_error(hy_test,hy_pred))\n",
        "h_r2=r2_score(hy_test,hy_pred)\n",
        "print('Mean Absolute Error: ',h_mae)\n",
        "print('Root Mean Squared Error: ',h_rmse)\n",
        "print('R2 Score: ',h_r2)"
      ],
      "metadata": {
        "colab": {
          "base_uri": "https://localhost:8080/"
        },
        "id": "79p7Ar8XIUr1",
        "outputId": "213297f8-bc9b-4cb0-8b87-40f03360e86e"
      },
      "execution_count": 109,
      "outputs": [
        {
          "output_type": "stream",
          "name": "stdout",
          "text": [
            "Mean Absolute Error:  9.565454672753281\n",
            "Root Mean Squared Error:  11.216005578102623\n",
            "R2 Score:  0.491958806925207\n"
          ]
        }
      ]
    },
    {
      "cell_type": "markdown",
      "source": [
        "#compare avg metric value over 100 run\n"
      ],
      "metadata": {
        "id": "bMWnOiXkW6j8"
      }
    },
    {
      "cell_type": "code",
      "source": [
        "#MAE\n",
        "h_mae1=[]\n",
        "for i in range(1,101):\n",
        "  x1_train,x1_test,y1_train,y1_test=train_test_split(hx,hy,test_size=0.3,random_state=i)\n",
        "  from sklearn.preprocessing import LabelEncoder\n",
        "  le=LabelEncoder()\n",
        "  all_dates = pd.concat([x1_train['Transaction date'], x1_test['Transaction date']]).astype(str)\n",
        "  le.fit(all_dates)\n",
        "  x1_train['Transaction date'] = le.transform(x1_train['Transaction date'].astype(str))\n",
        "  x1_test['Transaction date'] = le.transform(x1_test['Transaction date'].astype(str))\n",
        "  model.fit(x1_train,y1_train)\n",
        "  y1_pred=model.predict(x1_test)\n",
        "  h_mae=mean_absolute_error(y1_test,y1_pred)\n",
        "  h_mae1.append(h_mae)\n",
        "avg_mae=sum(h_mae1)/len(h_mae1)\n",
        "print('Avg Mean Absolute Error: ',avg_mae)"
      ],
      "metadata": {
        "id": "qCRcYYdcYVLg",
        "colab": {
          "base_uri": "https://localhost:8080/"
        },
        "outputId": "a815626d-d594-4081-e015-365b9c4e5711"
      },
      "execution_count": 110,
      "outputs": [
        {
          "output_type": "stream",
          "name": "stdout",
          "text": [
            "Avg Mean Absolute Error:  9.4114245589242\n"
          ]
        }
      ]
    },
    {
      "cell_type": "code",
      "source": [
        "#RMSE\n",
        "h_rmse1=[]\n",
        "for i in range(1,101):\n",
        "  x1_train,x1_test,y1_train,y1_test=train_test_split(hx,hy,test_size=0.3,random_state=i)\n",
        "  from sklearn.preprocessing import LabelEncoder\n",
        "  le=LabelEncoder()\n",
        "  all_dates = pd.concat([x1_train['Transaction date'], x1_test['Transaction date']]).astype(str)\n",
        "  le.fit(all_dates)\n",
        "  x1_train['Transaction date'] = le.transform(x1_train['Transaction date'].astype(str))\n",
        "  x1_test['Transaction date'] = le.transform(x1_test['Transaction date'].astype(str))\n",
        "  model.fit(x1_train,y1_train)\n",
        "  y1_pred=model.predict(x1_test)\n",
        "  h_rmse=np.sqrt(mean_squared_error(y1_test,y1_pred))\n",
        "  h_rmse1.append(h_rmse)\n",
        "avg_rmse=sum(h_rmse1)/len(h_rmse1)\n",
        "print('Root Mean Square Error: ',avg_rmse)"
      ],
      "metadata": {
        "colab": {
          "base_uri": "https://localhost:8080/"
        },
        "id": "2GnhcpT6JqwB",
        "outputId": "e35d9baa-565c-46c7-df9a-c7a809618ede"
      },
      "execution_count": 111,
      "outputs": [
        {
          "output_type": "stream",
          "name": "stdout",
          "text": [
            "Root Mean Square Error:  11.078924769971614\n"
          ]
        }
      ]
    },
    {
      "cell_type": "code",
      "source": [
        "#R2 SCORE\n",
        "h_R2_SC=[]\n",
        "for i in range(1,101):\n",
        "  x1_train,x1_test,y1_train,y1_test=train_test_split(hx,hy,test_size=0.3,random_state=i)\n",
        "  from sklearn.preprocessing import LabelEncoder\n",
        "  le=LabelEncoder()\n",
        "  all_dates = pd.concat([x1_train['Transaction date'], x1_test['Transaction date']]).astype(str)\n",
        "  le.fit(all_dates)\n",
        "  x1_train['Transaction date'] = le.transform(x1_train['Transaction date'].astype(str))\n",
        "  x1_test['Transaction date'] = le.transform(x1_test['Transaction date'].astype(str))\n",
        "  model.fit(x1_train,y1_train)\n",
        "  y1_pred=model.predict(x1_test)\n",
        "  h_R2=r2_score(y1_test,y1_pred)\n",
        "  h_R2_SC.append(h_R2)\n",
        "avg_R2_SC=sum(h_R2_SC)/len(h_R2_SC)\n",
        "print('R2 Score: ',avg_R2_SC)"
      ],
      "metadata": {
        "colab": {
          "base_uri": "https://localhost:8080/"
        },
        "id": "HinZAyCwKP6Y",
        "outputId": "bb5928d8-c883-4117-b8e5-869faad42cbb"
      },
      "execution_count": 112,
      "outputs": [
        {
          "output_type": "stream",
          "name": "stdout",
          "text": [
            "R2 Score:  0.5008177416060906\n"
          ]
        }
      ]
    }
  ]
}